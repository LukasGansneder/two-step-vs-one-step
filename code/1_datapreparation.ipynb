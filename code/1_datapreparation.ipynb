{
 "cells": [
  {
   "cell_type": "markdown",
   "id": "d9527c61",
   "metadata": {},
   "source": [
    "# 1: Data Preparation for Inference\n",
    "\n",
    "In this script, the dataset sp500_headlines_2008_2024_raw, sourced from Kaggle, is pre-processed:\n",
    "- Daily returns (Return) and log returns (Return_log) are computed from the closing price (CP).\n",
    "- The column 'Title' is renamed to 'Headline' for improved clarity and consistency with subsequent scripts.\n"
   ]
  },
  {
   "cell_type": "markdown",
   "id": "cf918ebd",
   "metadata": {},
   "source": [
    "### Import required packages"
   ]
  },
  {
   "cell_type": "code",
   "execution_count": 1,
   "id": "b9dbe4c7",
   "metadata": {},
   "outputs": [],
   "source": [
    "import pandas as pd\n",
    "import numpy as np\n",
    "\n",
    "df = pd.read_csv('../data/sp500_headlines_2008_2024_raw.csv')"
   ]
  },
  {
   "cell_type": "markdown",
   "id": "e812d4a3",
   "metadata": {},
   "source": [
    "### Data preparation"
   ]
  },
  {
   "cell_type": "code",
   "execution_count": 2,
   "id": "85c5fdc7",
   "metadata": {},
   "outputs": [],
   "source": [
    "df['Date'] = pd.to_datetime(df['Date'])\n",
    "df = df.sort_values('Date').reset_index(drop=True)\n",
    "# return\n",
    "df['Return'] = df['CP'].pct_change()\n",
    "df['Return_log'] = np.log(df['CP'] / df['CP'].shift(1))\n",
    "# headlines\n",
    "df = df.rename(columns={\"Title\": \"Headline\"})\n"
   ]
  },
  {
   "cell_type": "markdown",
   "id": "07efa1c1",
   "metadata": {},
   "source": [
    "### Final dataset"
   ]
  },
  {
   "cell_type": "code",
   "execution_count": 3,
   "id": "5cc42f0c",
   "metadata": {},
   "outputs": [
    {
     "data": {
      "application/vnd.microsoft.datawrangler.viewer.v0+json": {
       "columns": [
        {
         "name": "index",
         "rawType": "int64",
         "type": "integer"
        },
        {
         "name": "Headline",
         "rawType": "object",
         "type": "string"
        },
        {
         "name": "Date",
         "rawType": "datetime64[ns]",
         "type": "datetime"
        },
        {
         "name": "CP",
         "rawType": "float64",
         "type": "float"
        },
        {
         "name": "Return",
         "rawType": "float64",
         "type": "float"
        },
        {
         "name": "Return_log",
         "rawType": "float64",
         "type": "float"
        }
       ],
       "ref": "3333a36c-4988-4683-ae54-37ca177a1c66",
       "rows": [
        [
         "0",
         "JPMorgan Predicts 2008 Will Be \"Nothing But Net\"",
         "2008-01-02 00:00:00",
         "1447.16",
         null,
         null
        ],
        [
         "1",
         "Dow Tallies Biggest First-session-of-year Point Drop Ever",
         "2008-01-02 00:00:00",
         "1447.16",
         "0.0",
         "0.0"
        ],
        [
         "2",
         "2008 predictions for the S&P 500",
         "2008-01-02 00:00:00",
         "1447.16",
         "0.0",
         "0.0"
        ],
        [
         "3",
         "U.S. Stocks Higher After Economic Data, Monsanto Outlook",
         "2008-01-03 00:00:00",
         "1447.16",
         "0.0",
         "0.0"
        ],
        [
         "4",
         "U.S. Stocks Climb As Hopes Increase For More Fed Moves",
         "2008-01-07 00:00:00",
         "1416.18",
         "-0.021407446308632117",
         "-0.021639909300384126"
        ],
        [
         "5",
         "How Investing in Intangibles -- Like Employee Satisfaction -- Translates into Financial Returns",
         "2008-01-09 00:00:00",
         "1409.13",
         "-0.0049781807397364375",
         "-0.004990613159191699"
        ],
        [
         "6",
         "Head And Shoulders Top Bodes Ill For Bulls",
         "2008-01-09 00:00:00",
         "1409.13",
         "0.0",
         "0.0"
        ],
        [
         "7",
         "U.S. Stocks Zigzag Higher As Bernanke Speech Sinks In",
         "2008-01-10 00:00:00",
         "1420.33",
         "0.007948166599249129",
         "0.007916746302464807"
        ],
        [
         "8",
         "It's a Black Monday as stock markets tank in every corner of the globe",
         "2008-01-22 00:00:00",
         "1310.5",
         "-0.07732710004013144",
         "-0.08048049519865468"
        ],
        [
         "9",
         "U.S. Stocks Largely Recover From Early Plunge",
         "2008-01-22 00:00:00",
         "1310.5",
         "0.0",
         "0.0"
        ],
        [
         "10",
         "U.S. Stocks Sink; Dow Off More Than 180 Points",
         "2008-01-22 00:00:00",
         "1310.5",
         "0.0",
         "0.0"
        ],
        [
         "11",
         "Marriage - Tracy Collier and John Helvey | Community",
         "2008-01-22 00:00:00",
         "1310.5",
         "0.0",
         "0.0"
        ],
        [
         "12",
         "Former Connecticut hedge fund exec sues in son's drowning",
         "2008-01-29 00:00:00",
         "1362.3",
         "0.0395268981304846",
         "0.038765704008554155"
        ],
        [
         "13",
         "Super Bowl Ideas That Can Score",
         "2008-01-30 00:00:00",
         "1355.81",
         "-0.004764002055347549",
         "-0.004775386083217739"
        ],
        [
         "14",
         "New challenges at retooled Janus",
         "2008-02-01 00:00:00",
         "1395.42",
         "0.029215008002596354",
         "0.028796383521422275"
        ],
        [
         "15",
         "Satin PS3 to launch in Japan • The Register",
         "2008-02-05 00:00:00",
         "1336.64",
         "-0.04212351836722994",
         "-0.04303644290140902"
        ],
        [
         "16",
         "The Flawed Fed Valuation Model - The Big Picture",
         "2008-02-05 00:00:00",
         "1336.64",
         "0.0",
         "0.0"
        ],
        [
         "17",
         "Stocks Tumble As Data Signal Recession",
         "2008-02-05 00:00:00",
         "1336.64",
         "0.0",
         "0.0"
        ],
        [
         "18",
         "U.S. Stocks Drop As AIG Discloses Doubts About Portfolio",
         "2008-02-11 00:00:00",
         "1339.13",
         "0.0018628800574576054",
         "0.001861147048328348"
        ],
        [
         "19",
         "U.S. Stocks Cut Losses In The Wake Of AIG Disclosure",
         "2008-02-11 00:00:00",
         "1339.13",
         "0.0",
         "0.0"
        ],
        [
         "20",
         "Piezo Driver generates its own high voltage.",
         "2008-02-21 00:00:00",
         "1342.53",
         "0.0025389618632991606",
         "0.0025357441449195507"
        ],
        [
         "21",
         "The Economic Drift",
         "2008-02-22 00:00:00",
         "1353.11",
         "0.00788064326309268",
         "0.007849753177005593"
        ],
        [
         "22",
         "U.S. Stocks Reverse Day's Losses On Word Of Ambac Plan",
         "2008-02-22 00:00:00",
         "1353.11",
         "0.0",
         "0.0"
        ],
        [
         "23",
         "Warren Buffett - The richest investor in the World",
         "2008-02-28 00:00:00",
         "1367.68",
         "0.010767786802255763",
         "0.010710227011664136"
        ],
        [
         "24",
         "U.S. Stocks Open With Sharp Declines On AIG, Dell Losses",
         "2008-02-29 00:00:00",
         "1330.63",
         "-0.02708967009826857",
         "-0.027463359417352638"
        ],
        [
         "25",
         "Snap up Crocs trendy 'o-dial' handset holder",
         "2008-03-05 00:00:00",
         "1333.7",
         "0.002307177802995497",
         "0.002304520354973328"
        ],
        [
         "26",
         "U.S. Stocks End Lower On Recession Fears; Dow Off 3% For Week",
         "2008-03-07 00:00:00",
         "1293.37",
         "-0.030239184224338467",
         "-0.030705819565543923"
        ],
        [
         "27",
         "Lessons from Private Equity Any Company Can Use",
         "2008-03-07 00:00:00",
         "1293.37",
         "0.0",
         "0.0"
        ],
        [
         "28",
         "U.S. Stocks End Down For Third Consecutive Session",
         "2008-03-10 00:00:00",
         "1273.37",
         "-0.015463479128169033",
         "-0.015584285733366992"
        ],
        [
         "29",
         "U.S. Stocks Advance, Cheering Fed Liquidity Move",
         "2008-03-11 00:00:00",
         "1320.65",
         "0.037129820869032715",
         "0.03645711029237217"
        ],
        [
         "30",
         "Federal Reserve cuts key rate by 0.75 pct to 2.25 percent; dis",
         "2008-03-18 00:00:00",
         "1330.74",
         "0.007640177185476826",
         "0.0076111388433632516"
        ],
        [
         "31",
         "U.S. Stocks Pull Lower On Oracle, Google Woes",
         "2008-03-27 00:00:00",
         "1325.76",
         "-0.0037422787321340634",
         "-0.0037492985761364496"
        ],
        [
         "32",
         "U.S. Stocks Quickly Shed Opening Gains Amid Fed Talk",
         "2008-04-02 00:00:00",
         "1367.53",
         "0.031506456673907834",
         "0.03102031300924716"
        ],
        [
         "33",
         "Sonic boom: Man uses hedgehog as a weapon",
         "2008-04-07 00:00:00",
         "1372.54",
         "0.0036635393739077315",
         "0.0036568449587228284"
        ],
        [
         "34",
         "Faith and money - Faith-based mutual funds (1)",
         "2008-04-16 00:00:00",
         "1364.71",
         "-0.005704751774083028",
         "-0.00572108602199416"
        ],
        [
         "35",
         "U.S. Stocks Rally On Upbeat Intel View",
         "2008-04-16 00:00:00",
         "1364.71",
         "0.0",
         "0.0"
        ],
        [
         "36",
         "Louisiana Sportsman",
         "2008-04-22 00:00:00",
         "1375.94",
         "0.00822885448190469",
         "0.00819518205640316"
        ],
        [
         "37",
         "Legg Mason's Miller: ‘By far the worst is behind us’",
         "2008-04-23 00:00:00",
         "1379.93",
         "0.0028998357486518245",
         "0.002895639335615528"
        ],
        [
         "38",
         "U.S. Stocks Fall On Economic Woes; Amazon Outlook Weighs",
         "2008-04-24 00:00:00",
         "1388.82",
         "0.006442355771669517",
         "0.006421692497021097"
        ],
        [
         "39",
         "U.S. Stock Indexes Close With Weekly Gains",
         "2008-04-25 00:00:00",
         "1397.84",
         "0.006494722138218112",
         "0.006473722306730581"
        ],
        [
         "40",
         "Rockefellers Push ExxonMobil to Look Beyond Oil",
         "2008-05-05 00:00:00",
         "1407.49",
         "0.00690350826990227",
         "0.00687978816208632"
        ],
        [
         "41",
         "U.S. Stocks Shift Higher As Fannie Mae Reassures Investors",
         "2008-05-06 00:00:00",
         "1418.26",
         "0.007651919374205063",
         "0.007622791932013194"
        ],
        [
         "42",
         "U.S. Stocks Trade Broadly Lower Amid Oil-price Jitters",
         "2008-05-07 00:00:00",
         "1392.57",
         "-0.018113745011492988",
         "-0.01827980728708181"
        ],
        [
         "43",
         "Stocks Bear Market Relief Rally is Weaker than Expected",
         "2008-05-08 00:00:00",
         "1397.68",
         "0.0036694744249841094",
         "0.003662758328388545"
        ],
        [
         "44",
         "U.S. Stock Indexes Lodge Opening Gains, Sparked By Oil's Fall",
         "2008-05-12 00:00:00",
         "1403.58",
         "0.00422128097990937",
         "0.004212396367541536"
        ],
        [
         "45",
         "Water, Recession and the Growing Need to Invest",
         "2008-05-12 00:00:00",
         "1403.58",
         "0.0",
         "0.0"
        ],
        [
         "46",
         "In the game again: Face to Face with Martin Flanagan",
         "2008-05-12 00:00:00",
         "1403.58",
         "0.0",
         "0.0"
        ],
        [
         "47",
         "U.S. Stocks Lower As Oil Rises To Another High",
         "2008-05-16 00:00:00",
         "1425.35",
         "0.01551033785035405",
         "0.01539128204591871"
        ],
        [
         "48",
         "Parker expands AC890 Ethernet communication cards",
         "2008-05-21 00:00:00",
         "1390.71",
         "-0.024302802820359792",
         "-0.024602989497509657"
        ],
        [
         "49",
         "Kimberly-Clark (KMB) Dividend Analysis",
         "2008-05-23 00:00:00",
         "1375.93",
         "-0.010627665005644604",
         "-0.010684541975902908"
        ]
       ],
       "shape": {
        "columns": 5,
        "rows": 19127
       }
      },
      "text/html": [
       "<div>\n",
       "<style scoped>\n",
       "    .dataframe tbody tr th:only-of-type {\n",
       "        vertical-align: middle;\n",
       "    }\n",
       "\n",
       "    .dataframe tbody tr th {\n",
       "        vertical-align: top;\n",
       "    }\n",
       "\n",
       "    .dataframe thead th {\n",
       "        text-align: right;\n",
       "    }\n",
       "</style>\n",
       "<table border=\"1\" class=\"dataframe\">\n",
       "  <thead>\n",
       "    <tr style=\"text-align: right;\">\n",
       "      <th></th>\n",
       "      <th>Headline</th>\n",
       "      <th>Date</th>\n",
       "      <th>CP</th>\n",
       "      <th>Return</th>\n",
       "      <th>Return_log</th>\n",
       "    </tr>\n",
       "  </thead>\n",
       "  <tbody>\n",
       "    <tr>\n",
       "      <th>0</th>\n",
       "      <td>JPMorgan Predicts 2008 Will Be \"Nothing But Net\"</td>\n",
       "      <td>2008-01-02</td>\n",
       "      <td>1447.16</td>\n",
       "      <td>NaN</td>\n",
       "      <td>NaN</td>\n",
       "    </tr>\n",
       "    <tr>\n",
       "      <th>1</th>\n",
       "      <td>Dow Tallies Biggest First-session-of-year Poin...</td>\n",
       "      <td>2008-01-02</td>\n",
       "      <td>1447.16</td>\n",
       "      <td>0.000000</td>\n",
       "      <td>0.00000</td>\n",
       "    </tr>\n",
       "    <tr>\n",
       "      <th>2</th>\n",
       "      <td>2008 predictions for the S&amp;P 500</td>\n",
       "      <td>2008-01-02</td>\n",
       "      <td>1447.16</td>\n",
       "      <td>0.000000</td>\n",
       "      <td>0.00000</td>\n",
       "    </tr>\n",
       "    <tr>\n",
       "      <th>3</th>\n",
       "      <td>U.S. Stocks Higher After Economic Data, Monsan...</td>\n",
       "      <td>2008-01-03</td>\n",
       "      <td>1447.16</td>\n",
       "      <td>0.000000</td>\n",
       "      <td>0.00000</td>\n",
       "    </tr>\n",
       "    <tr>\n",
       "      <th>4</th>\n",
       "      <td>U.S. Stocks Climb As Hopes Increase For More F...</td>\n",
       "      <td>2008-01-07</td>\n",
       "      <td>1416.18</td>\n",
       "      <td>-0.021407</td>\n",
       "      <td>-0.02164</td>\n",
       "    </tr>\n",
       "    <tr>\n",
       "      <th>...</th>\n",
       "      <td>...</td>\n",
       "      <td>...</td>\n",
       "      <td>...</td>\n",
       "      <td>...</td>\n",
       "      <td>...</td>\n",
       "    </tr>\n",
       "    <tr>\n",
       "      <th>19122</th>\n",
       "      <td>Zions (ZION) Loses Spot in S&amp;P 500 as Concerns...</td>\n",
       "      <td>2024-03-04</td>\n",
       "      <td>5130.95</td>\n",
       "      <td>0.000000</td>\n",
       "      <td>0.00000</td>\n",
       "    </tr>\n",
       "    <tr>\n",
       "      <th>19123</th>\n",
       "      <td>S&amp;P 500: Super Micro, Deckers Jump On News The...</td>\n",
       "      <td>2024-03-04</td>\n",
       "      <td>5130.95</td>\n",
       "      <td>0.000000</td>\n",
       "      <td>0.00000</td>\n",
       "    </tr>\n",
       "    <tr>\n",
       "      <th>19124</th>\n",
       "      <td>Bank of America boosts S&amp;P 500 target to 5,400...</td>\n",
       "      <td>2024-03-04</td>\n",
       "      <td>5130.95</td>\n",
       "      <td>0.000000</td>\n",
       "      <td>0.00000</td>\n",
       "    </tr>\n",
       "    <tr>\n",
       "      <th>19125</th>\n",
       "      <td>S&amp;P 500 Price Forecast – S&amp;P 500 Continues to ...</td>\n",
       "      <td>2024-03-04</td>\n",
       "      <td>5130.95</td>\n",
       "      <td>0.000000</td>\n",
       "      <td>0.00000</td>\n",
       "    </tr>\n",
       "    <tr>\n",
       "      <th>19126</th>\n",
       "      <td>S&amp;P 500 Gains and Losses Today: Tesla Shares T...</td>\n",
       "      <td>2024-03-04</td>\n",
       "      <td>5130.95</td>\n",
       "      <td>0.000000</td>\n",
       "      <td>0.00000</td>\n",
       "    </tr>\n",
       "  </tbody>\n",
       "</table>\n",
       "<p>19127 rows × 5 columns</p>\n",
       "</div>"
      ],
      "text/plain": [
       "                                                Headline       Date       CP  \\\n",
       "0       JPMorgan Predicts 2008 Will Be \"Nothing But Net\" 2008-01-02  1447.16   \n",
       "1      Dow Tallies Biggest First-session-of-year Poin... 2008-01-02  1447.16   \n",
       "2                       2008 predictions for the S&P 500 2008-01-02  1447.16   \n",
       "3      U.S. Stocks Higher After Economic Data, Monsan... 2008-01-03  1447.16   \n",
       "4      U.S. Stocks Climb As Hopes Increase For More F... 2008-01-07  1416.18   \n",
       "...                                                  ...        ...      ...   \n",
       "19122  Zions (ZION) Loses Spot in S&P 500 as Concerns... 2024-03-04  5130.95   \n",
       "19123  S&P 500: Super Micro, Deckers Jump On News The... 2024-03-04  5130.95   \n",
       "19124  Bank of America boosts S&P 500 target to 5,400... 2024-03-04  5130.95   \n",
       "19125  S&P 500 Price Forecast – S&P 500 Continues to ... 2024-03-04  5130.95   \n",
       "19126  S&P 500 Gains and Losses Today: Tesla Shares T... 2024-03-04  5130.95   \n",
       "\n",
       "         Return  Return_log  \n",
       "0           NaN         NaN  \n",
       "1      0.000000     0.00000  \n",
       "2      0.000000     0.00000  \n",
       "3      0.000000     0.00000  \n",
       "4     -0.021407    -0.02164  \n",
       "...         ...         ...  \n",
       "19122  0.000000     0.00000  \n",
       "19123  0.000000     0.00000  \n",
       "19124  0.000000     0.00000  \n",
       "19125  0.000000     0.00000  \n",
       "19126  0.000000     0.00000  \n",
       "\n",
       "[19127 rows x 5 columns]"
      ]
     },
     "execution_count": 3,
     "metadata": {},
     "output_type": "execute_result"
    }
   ],
   "source": [
    "df"
   ]
  },
  {
   "cell_type": "markdown",
   "id": "7ae71dcb",
   "metadata": {},
   "source": [
    "### Export final dataset as csv"
   ]
  },
  {
   "cell_type": "code",
   "execution_count": 4,
   "id": "5a6d5f07",
   "metadata": {},
   "outputs": [],
   "source": [
    "df.to_csv(\"../data/sp500_headlines_2008_2024.csv\", index=False, encoding=\"utf-8\")"
   ]
  }
 ],
 "metadata": {
  "kernelspec": {
   "display_name": "Python 3",
   "language": "python",
   "name": "python3"
  },
  "language_info": {
   "codemirror_mode": {
    "name": "ipython",
    "version": 3
   },
   "file_extension": ".py",
   "mimetype": "text/x-python",
   "name": "python",
   "nbconvert_exporter": "python",
   "pygments_lexer": "ipython3",
   "version": "3.10.7"
  }
 },
 "nbformat": 4,
 "nbformat_minor": 5
}
