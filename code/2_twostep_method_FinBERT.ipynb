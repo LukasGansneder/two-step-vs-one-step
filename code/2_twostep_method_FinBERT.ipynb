{
 "cells": [
  {
   "cell_type": "markdown",
   "id": "a6703187",
   "metadata": {},
   "source": [
    "# 2: Two-Step Method using FinBERT as Machine Learning Model\n",
    "\n",
    "In this script, the two-step strategy is applied to the dataset sp500_headlines_2008_2024.csv:\n",
    "- Each article headline is evaluated with the FinBERT model, yielding a sentiment score for the headline.\n",
    "- For each trading day, the average sentiment across all headlines is computed, where the number of available headlines on a given day serves as the measure C_i.\n",
    "- The daily sentiment estimate is then used as a generated regressor in a downstream economic model via simple linear regression.\n",
    "- To assess the role of C_i, the sample is split into three groups (low, medium, high number of headlines) and the regression is estimated separately for each group.\n"
   ]
  },
  {
   "cell_type": "markdown",
   "id": "6021611e",
   "metadata": {},
   "source": [
    "### Import required packages"
   ]
  },
  {
   "cell_type": "code",
   "execution_count": 1,
   "id": "97dc5451",
   "metadata": {},
   "outputs": [
    {
     "name": "stderr",
     "output_type": "stream",
     "text": [
      "c:\\Users\\49176\\AppData\\Local\\Programs\\Python\\Python310\\lib\\site-packages\\tqdm\\auto.py:21: TqdmWarning: IProgress not found. Please update jupyter and ipywidgets. See https://ipywidgets.readthedocs.io/en/stable/user_install.html\n",
      "  from .autonotebook import tqdm as notebook_tqdm\n"
     ]
    }
   ],
   "source": [
    "# Two-Step: Headlines -> Sentiment (θ̂t) -> Returns regression\n",
    "# Erwartete Spalten in deiner CSV: 'Date', 'Headline', 'CP'\n",
    "from transformers import AutoTokenizer, AutoModelForSequenceClassification\n",
    "import torch\n",
    "from tqdm import tqdm\n",
    "import pandas as pd\n",
    "import statsmodels.api as sm"
   ]
  },
  {
   "cell_type": "markdown",
   "id": "773fc3a2",
   "metadata": {},
   "source": [
    "### Prepare Data"
   ]
  },
  {
   "cell_type": "code",
   "execution_count": null,
   "id": "65fbe249",
   "metadata": {},
   "outputs": [],
   "source": [
    "df = pd.read_csv('../data/sp500_headlines_2008_2024.csv')\n",
    "df['Date'] = pd.to_datetime(df['Date'])\n",
    "df = df.sort_values('Date').reset_index(drop=True)"
   ]
  },
  {
   "cell_type": "markdown",
   "id": "8dd717d6",
   "metadata": {},
   "source": [
    "### Load FinBERT"
   ]
  },
  {
   "cell_type": "code",
   "execution_count": 3,
   "id": "561fa00f",
   "metadata": {},
   "outputs": [
    {
     "data": {
      "text/plain": [
       "BertForSequenceClassification(\n",
       "  (bert): BertModel(\n",
       "    (embeddings): BertEmbeddings(\n",
       "      (word_embeddings): Embedding(30873, 768, padding_idx=0)\n",
       "      (position_embeddings): Embedding(512, 768)\n",
       "      (token_type_embeddings): Embedding(2, 768)\n",
       "      (LayerNorm): LayerNorm((768,), eps=1e-12, elementwise_affine=True)\n",
       "      (dropout): Dropout(p=0.1, inplace=False)\n",
       "    )\n",
       "    (encoder): BertEncoder(\n",
       "      (layer): ModuleList(\n",
       "        (0-11): 12 x BertLayer(\n",
       "          (attention): BertAttention(\n",
       "            (self): BertSdpaSelfAttention(\n",
       "              (query): Linear(in_features=768, out_features=768, bias=True)\n",
       "              (key): Linear(in_features=768, out_features=768, bias=True)\n",
       "              (value): Linear(in_features=768, out_features=768, bias=True)\n",
       "              (dropout): Dropout(p=0.1, inplace=False)\n",
       "            )\n",
       "            (output): BertSelfOutput(\n",
       "              (dense): Linear(in_features=768, out_features=768, bias=True)\n",
       "              (LayerNorm): LayerNorm((768,), eps=1e-12, elementwise_affine=True)\n",
       "              (dropout): Dropout(p=0.1, inplace=False)\n",
       "            )\n",
       "          )\n",
       "          (intermediate): BertIntermediate(\n",
       "            (dense): Linear(in_features=768, out_features=3072, bias=True)\n",
       "            (intermediate_act_fn): GELUActivation()\n",
       "          )\n",
       "          (output): BertOutput(\n",
       "            (dense): Linear(in_features=3072, out_features=768, bias=True)\n",
       "            (LayerNorm): LayerNorm((768,), eps=1e-12, elementwise_affine=True)\n",
       "            (dropout): Dropout(p=0.1, inplace=False)\n",
       "          )\n",
       "        )\n",
       "      )\n",
       "    )\n",
       "    (pooler): BertPooler(\n",
       "      (dense): Linear(in_features=768, out_features=768, bias=True)\n",
       "      (activation): Tanh()\n",
       "    )\n",
       "  )\n",
       "  (dropout): Dropout(p=0.1, inplace=False)\n",
       "  (classifier): Linear(in_features=768, out_features=3, bias=True)\n",
       ")"
      ]
     },
     "execution_count": 3,
     "metadata": {},
     "output_type": "execute_result"
    }
   ],
   "source": [
    "tokenizer = AutoTokenizer.from_pretrained(\"yiyanghkust/finbert-tone\")\n",
    "model = AutoModelForSequenceClassification.from_pretrained(\"yiyanghkust/finbert-tone\")\n",
    "model.eval()"
   ]
  },
  {
   "cell_type": "markdown",
   "id": "eceefdc5",
   "metadata": {},
   "source": [
    "### Compute Sentiments"
   ]
  },
  {
   "cell_type": "code",
   "execution_count": 4,
   "id": "22dba976",
   "metadata": {},
   "outputs": [
    {
     "name": "stderr",
     "output_type": "stream",
     "text": [
      "100%|██████████| 598/598 [20:19<00:00,  2.04s/it]\n"
     ]
    }
   ],
   "source": [
    "# Define batch size\n",
    "batch_size = 32\n",
    "sentiments = []\n",
    "\n",
    "# Plug Headlines into FinBERT\n",
    "for i in tqdm(range(0, len(df), batch_size)):\n",
    "    batch = df[\"Headline\"].iloc[i:i+batch_size].astype(str).tolist()\n",
    "    inputs = tokenizer(batch, padding=True, truncation=True, return_tensors=\"pt\", max_length=128)\n",
    "\n",
    "    with torch.no_grad():\n",
    "        outputs = model(**inputs)\n",
    "        probs = torch.nn.functional.softmax(outputs.logits, dim=-1)\n",
    "    \n",
    "    # FinBERT labels: 0 = negative, 1 = neutral, 2 = positive\n",
    "    batch_scores = probs[:, 2] - probs[:, 0]  # Positive - Negative = Sentiment Score\n",
    "    sentiments.extend(batch_scores.numpy())\n",
    "\n",
    "df[\"finbert_sent\"] = sentiments"
   ]
  },
  {
   "cell_type": "markdown",
   "id": "23edd2ad",
   "metadata": {},
   "source": [
    "### Aggregation"
   ]
  },
  {
   "cell_type": "code",
   "execution_count": 5,
   "id": "2db6dc28",
   "metadata": {},
   "outputs": [],
   "source": [
    "# Aggregation: take mean of the raw sentiment estimate for every day (average of duplicate entries)\n",
    "# Note: choosing median for a more robust result is an other option here\n",
    "daily = (\n",
    "    df.groupby('Date', as_index=False)\n",
    "      .agg(hat_theta=('finbert_sent','mean'),\n",
    "           CP=('CP','last'),\n",
    "           Return_simple=('Return','last'),\n",
    "           Return_log=('Return_log','last'),\n",
    "           n_headlines=('Headline','size'))\n",
    ")"
   ]
  },
  {
   "cell_type": "markdown",
   "id": "fa332cd2",
   "metadata": {},
   "source": [
    "### Downstream economic model"
   ]
  },
  {
   "cell_type": "code",
   "execution_count": 6,
   "id": "c06ad8c4",
   "metadata": {},
   "outputs": [
    {
     "name": "stderr",
     "output_type": "stream",
     "text": [
      "C:\\Users\\49176\\AppData\\Local\\Temp\\ipykernel_12036\\2476678587.py:12: FutureWarning: The default of observed=False is deprecated and will be changed to True in a future version of pandas. Pass observed=False to retain current behavior or observed=True to adopt the future default and silence this warning.\n",
      "  for grp, dailyg in daily.groupby(\"C_group\"):\n"
     ]
    },
    {
     "name": "stdout",
     "output_type": "stream",
     "text": [
      "=== Group: low ===\n",
      "==============================================================================\n",
      "                 coef    std err          z      P>|z|      [0.025      0.975]\n",
      "------------------------------------------------------------------------------\n",
      "const      -2.663e-05      0.000     -0.061      0.952      -0.001       0.001\n",
      "hat_theta     -0.0002      0.001     -0.369      0.712      -0.001       0.001\n",
      "==============================================================================\n",
      "\n",
      "\n",
      "=== Group: medium ===\n",
      "==============================================================================\n",
      "                 coef    std err          z      P>|z|      [0.025      0.975]\n",
      "------------------------------------------------------------------------------\n",
      "const      -6.616e-06      0.000     -0.033      0.973      -0.000       0.000\n",
      "hat_theta     -0.0002      0.000     -0.683      0.495      -0.001       0.000\n",
      "==============================================================================\n",
      "\n",
      "\n",
      "=== Group: high ===\n",
      "==============================================================================\n",
      "                 coef    std err          z      P>|z|      [0.025      0.975]\n",
      "------------------------------------------------------------------------------\n",
      "const          0.0004      0.000      2.177      0.029    3.55e-05       0.001\n",
      "hat_theta      0.0004      0.000      1.179      0.238      -0.000       0.001\n",
      "==============================================================================\n",
      "\n",
      "\n"
     ]
    }
   ],
   "source": [
    "# OLS with Newey-West standard errors (HAC=heteroskedasticity and autocorrelation consistent)\n",
    "# Basismodell as introduced by Tetlock: R_t = γ0 + γ1 * θ̂_t + ε_t\n",
    "def ols_hac(y, X, lags=5):\n",
    "    Xc = sm.add_constant(X)\n",
    "    return sm.OLS(y, Xc, missing='drop').fit(cov_type='HAC', cov_kwds={'maxlags': lags})\n",
    "\n",
    "results_by_C = {}\n",
    "\n",
    "# Define groups for the amount of unstructered data (n_headlines): low, medium, high\n",
    "daily['C_group'] = pd.qcut(daily['n_headlines'], q=3, labels=[\"low\", \"medium\", \"high\"])\n",
    "\n",
    "for grp, dailyg in daily.groupby(\"C_group\"):\n",
    "    X = sm.add_constant(dailyg['hat_theta'])\n",
    "    y = dailyg['Return_simple']\n",
    "    model = sm.OLS(y, X).fit(cov_type='HAC', cov_kwds={'maxlags': 5})\n",
    "    results_by_C[grp] = model\n",
    "\n",
    "# Print results\n",
    "for grp, model in results_by_C.items():\n",
    "    print(f\"=== Group: {grp} ===\")\n",
    "    print(model.summary().tables[1])\n",
    "    print(\"\\n\")\n"
   ]
  },
  {
   "cell_type": "markdown",
   "id": "c9adf3dd",
   "metadata": {},
   "source": [
    "### Export final dataset as csv"
   ]
  },
  {
   "cell_type": "code",
   "execution_count": 7,
   "id": "0d4e8e8b",
   "metadata": {},
   "outputs": [],
   "source": [
    "daily.to_csv(\"../data/daily_headlines_embedded_FinBERT.csv\", index=False, encoding=\"utf-8\")"
   ]
  }
 ],
 "metadata": {
  "kernelspec": {
   "display_name": "Python 3",
   "language": "python",
   "name": "python3"
  },
  "language_info": {
   "codemirror_mode": {
    "name": "ipython",
    "version": 3
   },
   "file_extension": ".py",
   "mimetype": "text/x-python",
   "name": "python",
   "nbconvert_exporter": "python",
   "pygments_lexer": "ipython3",
   "version": "3.10.7"
  }
 },
 "nbformat": 4,
 "nbformat_minor": 5
}
