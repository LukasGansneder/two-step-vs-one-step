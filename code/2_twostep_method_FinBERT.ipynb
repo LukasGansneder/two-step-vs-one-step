{
 "cells": [
  {
   "cell_type": "markdown",
   "id": "6021611e",
   "metadata": {},
   "source": [
    "### Import required packages"
   ]
  },
  {
   "cell_type": "code",
   "execution_count": 19,
   "id": "97dc5451",
   "metadata": {},
   "outputs": [],
   "source": [
    "# Two-Step: Headlines -> Sentiment (θ̂t) -> Returns regression\n",
    "# Erwartete Spalten in deiner CSV: 'Date', 'Headline', 'CP'\n",
    "from transformers import AutoTokenizer, AutoModelForSequenceClassification\n",
    "import torch\n",
    "from tqdm import tqdm\n",
    "import pandas as pd\n",
    "import statsmodels.api as sm"
   ]
  },
  {
   "cell_type": "markdown",
   "id": "773fc3a2",
   "metadata": {},
   "source": [
    "### Prepare Data"
   ]
  },
  {
   "cell_type": "code",
   "execution_count": 5,
   "id": "65fbe249",
   "metadata": {},
   "outputs": [],
   "source": [
    "df = pd.read_csv('../data/sp500_headlines_2008_2004.csv')\n",
    "df['Date'] = pd.to_datetime(df['Date'])\n",
    "df = df.sort_values('Date').reset_index(drop=True)"
   ]
  },
  {
   "cell_type": "markdown",
   "id": "8dd717d6",
   "metadata": {},
   "source": [
    "### Load FinBERT"
   ]
  },
  {
   "cell_type": "code",
   "execution_count": null,
   "id": "561fa00f",
   "metadata": {},
   "outputs": [],
   "source": [
    "tokenizer = AutoTokenizer.from_pretrained(\"yiyanghkust/finbert-tone\")\n",
    "model = AutoModelForSequenceClassification.from_pretrained(\"yiyanghkust/finbert-tone\")\n",
    "model.eval()"
   ]
  },
  {
   "cell_type": "markdown",
   "id": "eceefdc5",
   "metadata": {},
   "source": [
    "### Compute Sentiments"
   ]
  },
  {
   "cell_type": "code",
   "execution_count": 11,
   "id": "22dba976",
   "metadata": {},
   "outputs": [
    {
     "name": "stderr",
     "output_type": "stream",
     "text": [
      "100%|██████████| 598/598 [30:42<00:00,  3.08s/it]\n"
     ]
    }
   ],
   "source": [
    "# Define batch size\n",
    "batch_size = 32\n",
    "sentiments = []\n",
    "\n",
    "# Plug Headlines into FinBERT\n",
    "for i in tqdm(range(0, len(df), batch_size)):\n",
    "    batch = df[\"Headline\"].iloc[i:i+batch_size].astype(str).tolist()\n",
    "    inputs = tokenizer(batch, padding=True, truncation=True, return_tensors=\"pt\", max_length=128)\n",
    "\n",
    "    with torch.no_grad():\n",
    "        outputs = model(**inputs)\n",
    "        probs = torch.nn.functional.softmax(outputs.logits, dim=-1)\n",
    "    \n",
    "    # FinBERT labels: 0 = negative, 1 = neutral, 2 = positive\n",
    "    batch_scores = probs[:, 2] - probs[:, 0]  # Positive - Negative = Sentiment Score\n",
    "    sentiments.extend(batch_scores.numpy())\n",
    "\n",
    "df[\"finbert_sent\"] = sentiments"
   ]
  },
  {
   "cell_type": "markdown",
   "id": "23edd2ad",
   "metadata": {},
   "source": [
    "### Aggregation"
   ]
  },
  {
   "cell_type": "code",
   "execution_count": 24,
   "id": "2db6dc28",
   "metadata": {},
   "outputs": [],
   "source": [
    "# Aggregation: take mean mean of the raw sentiment estimate for every day (average of duplicate entries)\n",
    "# Note: choosing median for a more robust result is an extra option here\n",
    "daily = (\n",
    "    df.groupby('Date', as_index=False)\n",
    "      .agg(hat_theta=('finbert_sent','mean'),\n",
    "           CP=('CP','last'),\n",
    "           Return_simple=('Return','last'),\n",
    "           Return_log=('Return_log','last'),\n",
    "           n_headlines=('Headline','size'))\n",
    ")"
   ]
  },
  {
   "cell_type": "markdown",
   "id": "fa332cd2",
   "metadata": {},
   "source": [
    "### Downstream economic model"
   ]
  },
  {
   "cell_type": "code",
   "execution_count": 27,
   "id": "c06ad8c4",
   "metadata": {},
   "outputs": [
    {
     "name": "stdout",
     "output_type": "stream",
     "text": [
      "=== Group: low ===\n",
      "==============================================================================\n",
      "                 coef    std err          z      P>|z|      [0.025      0.975]\n",
      "------------------------------------------------------------------------------\n",
      "const      -2.663e-05      0.000     -0.061      0.952      -0.001       0.001\n",
      "hat_theta     -0.0002      0.001     -0.369      0.712      -0.001       0.001\n",
      "==============================================================================\n",
      "\n",
      "\n",
      "=== Group: medium ===\n",
      "==============================================================================\n",
      "                 coef    std err          z      P>|z|      [0.025      0.975]\n",
      "------------------------------------------------------------------------------\n",
      "const      -6.616e-06      0.000     -0.033      0.973      -0.000       0.000\n",
      "hat_theta     -0.0002      0.000     -0.683      0.495      -0.001       0.000\n",
      "==============================================================================\n",
      "\n",
      "\n",
      "=== Group: high ===\n",
      "==============================================================================\n",
      "                 coef    std err          z      P>|z|      [0.025      0.975]\n",
      "------------------------------------------------------------------------------\n",
      "const          0.0004      0.000      2.177      0.029    3.55e-05       0.001\n",
      "hat_theta      0.0004      0.000      1.179      0.238      -0.000       0.001\n",
      "==============================================================================\n",
      "\n",
      "\n"
     ]
    },
    {
     "name": "stderr",
     "output_type": "stream",
     "text": [
      "C:\\Users\\49176\\AppData\\Local\\Temp\\ipykernel_30160\\2476678587.py:12: FutureWarning: The default of observed=False is deprecated and will be changed to True in a future version of pandas. Pass observed=False to retain current behavior or observed=True to adopt the future default and silence this warning.\n",
      "  for grp, dailyg in daily.groupby(\"C_group\"):\n"
     ]
    }
   ],
   "source": [
    "# OLS with Newey-West standard errors (HAC=heteroskedasticity and autocorrelation consistent)\n",
    "# Basismodell as introduced by Tetlock: R_t = γ0 + γ1 * θ̂_t + ε_t\n",
    "def ols_hac(y, X, lags=5):\n",
    "    Xc = sm.add_constant(X)\n",
    "    return sm.OLS(y, Xc, missing='drop').fit(cov_type='HAC', cov_kwds={'maxlags': lags})\n",
    "\n",
    "results_by_C = {}\n",
    "\n",
    "# Define groups for the amount of unstructered data (n_headlines): low, medium, high\n",
    "daily['C_group'] = pd.qcut(daily['n_headlines'], q=3, labels=[\"low\", \"medium\", \"high\"])\n",
    "\n",
    "for grp, dailyg in daily.groupby(\"C_group\"):\n",
    "    X = sm.add_constant(dailyg['hat_theta'])\n",
    "    y = dailyg['Return_simple']\n",
    "    model = sm.OLS(y, X).fit(cov_type='HAC', cov_kwds={'maxlags': 5})\n",
    "    results_by_C[grp] = model\n",
    "\n",
    "# Print results\n",
    "for grp, model in results_by_C.items():\n",
    "    print(f\"=== Group: {grp} ===\")\n",
    "    print(model.summary().tables[1])\n",
    "    print(\"\\n\")\n"
   ]
  }
 ],
 "metadata": {
  "kernelspec": {
   "display_name": "Python 3",
   "language": "python",
   "name": "python3"
  },
  "language_info": {
   "codemirror_mode": {
    "name": "ipython",
    "version": 3
   },
   "file_extension": ".py",
   "mimetype": "text/x-python",
   "name": "python",
   "nbconvert_exporter": "python",
   "pygments_lexer": "ipython3",
   "version": "3.10.7"
  }
 },
 "nbformat": 4,
 "nbformat_minor": 5
}
