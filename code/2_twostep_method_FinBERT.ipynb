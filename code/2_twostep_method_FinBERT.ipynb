{
 "cells": [
  {
   "cell_type": "markdown",
   "id": "a6703187",
   "metadata": {},
   "source": [
    "# 2: Two-Step Method using FinBERT as Machine Learning Model\n",
    "\n",
    "In this script, the two-step strategy is applied to the dataset sp500_headlines_2008_2024.csv:\n",
    "- Each article headline is evaluated with the FinBERT model, yielding a sentiment score for the headline.\n",
    "- For each trading day, the average sentiment across all headlines is computed, where the number of available headlines on a given day serves as the measure C_i.\n",
    "- The daily sentiment estimate is then used as a generated regressor in a downstream economic model via simple linear regression.\n",
    "- To assess the role of C_i, the sample is split into three groups (low, medium, high number of headlines) and the regression is estimated separately for each group.\n"
   ]
  },
  {
   "cell_type": "markdown",
   "id": "6021611e",
   "metadata": {},
   "source": [
    "### Import required packages"
   ]
  },
  {
   "cell_type": "code",
   "execution_count": 1,
   "id": "97dc5451",
   "metadata": {},
   "outputs": [
    {
     "name": "stderr",
     "output_type": "stream",
     "text": [
      "c:\\Users\\49176\\AppData\\Local\\Programs\\Python\\Python310\\lib\\site-packages\\tqdm\\auto.py:21: TqdmWarning: IProgress not found. Please update jupyter and ipywidgets. See https://ipywidgets.readthedocs.io/en/stable/user_install.html\n",
      "  from .autonotebook import tqdm as notebook_tqdm\n"
     ]
    }
   ],
   "source": [
    "# Two-Step: Headlines -> Sentiment (θ̂t) -> Returns regression\n",
    "# Erwartete Spalten in deiner CSV: 'Date', 'Headline', 'CP'\n",
    "from transformers import AutoTokenizer, AutoModelForSequenceClassification\n",
    "import torch\n",
    "from tqdm import tqdm\n",
    "import pandas as pd\n",
    "import statsmodels.api as sm"
   ]
  },
  {
   "cell_type": "markdown",
   "id": "773fc3a2",
   "metadata": {},
   "source": [
    "### Prepare Data"
   ]
  },
  {
   "cell_type": "code",
   "execution_count": null,
   "id": "65fbe249",
   "metadata": {},
   "outputs": [],
   "source": [
    "df = pd.read_csv('../data/sp500_headlines_2008_2024.csv')\n",
    "df['Date'] = pd.to_datetime(df['Date'])\n",
    "df = df.sort_values('Date').reset_index(drop=True)"
   ]
  },
  {
   "cell_type": "markdown",
   "id": "8dd717d6",
   "metadata": {},
   "source": [
    "### Load FinBERT"
   ]
  },
  {
   "cell_type": "code",
   "execution_count": 3,
   "id": "561fa00f",
   "metadata": {},
   "outputs": [
    {
     "data": {
      "text/plain": [
       "BertForSequenceClassification(\n",
       "  (bert): BertModel(\n",
       "    (embeddings): BertEmbeddings(\n",
       "      (word_embeddings): Embedding(30873, 768, padding_idx=0)\n",
       "      (position_embeddings): Embedding(512, 768)\n",
       "      (token_type_embeddings): Embedding(2, 768)\n",
       "      (LayerNorm): LayerNorm((768,), eps=1e-12, elementwise_affine=True)\n",
       "      (dropout): Dropout(p=0.1, inplace=False)\n",
       "    )\n",
       "    (encoder): BertEncoder(\n",
       "      (layer): ModuleList(\n",
       "        (0-11): 12 x BertLayer(\n",
       "          (attention): BertAttention(\n",
       "            (self): BertSdpaSelfAttention(\n",
       "              (query): Linear(in_features=768, out_features=768, bias=True)\n",
       "              (key): Linear(in_features=768, out_features=768, bias=True)\n",
       "              (value): Linear(in_features=768, out_features=768, bias=True)\n",
       "              (dropout): Dropout(p=0.1, inplace=False)\n",
       "            )\n",
       "            (output): BertSelfOutput(\n",
       "              (dense): Linear(in_features=768, out_features=768, bias=True)\n",
       "              (LayerNorm): LayerNorm((768,), eps=1e-12, elementwise_affine=True)\n",
       "              (dropout): Dropout(p=0.1, inplace=False)\n",
       "            )\n",
       "          )\n",
       "          (intermediate): BertIntermediate(\n",
       "            (dense): Linear(in_features=768, out_features=3072, bias=True)\n",
       "            (intermediate_act_fn): GELUActivation()\n",
       "          )\n",
       "          (output): BertOutput(\n",
       "            (dense): Linear(in_features=3072, out_features=768, bias=True)\n",
       "            (LayerNorm): LayerNorm((768,), eps=1e-12, elementwise_affine=True)\n",
       "            (dropout): Dropout(p=0.1, inplace=False)\n",
       "          )\n",
       "        )\n",
       "      )\n",
       "    )\n",
       "    (pooler): BertPooler(\n",
       "      (dense): Linear(in_features=768, out_features=768, bias=True)\n",
       "      (activation): Tanh()\n",
       "    )\n",
       "  )\n",
       "  (dropout): Dropout(p=0.1, inplace=False)\n",
       "  (classifier): Linear(in_features=768, out_features=3, bias=True)\n",
       ")"
      ]
     },
     "execution_count": 3,
     "metadata": {},
     "output_type": "execute_result"
    }
   ],
   "source": [
    "tokenizer = AutoTokenizer.from_pretrained(\"yiyanghkust/finbert-tone\")\n",
    "model = AutoModelForSequenceClassification.from_pretrained(\"yiyanghkust/finbert-tone\")\n",
    "model.eval()"
   ]
  },
  {
   "cell_type": "markdown",
   "id": "eceefdc5",
   "metadata": {},
   "source": [
    "### Compute Sentiments"
   ]
  },
  {
   "cell_type": "code",
   "execution_count": 4,
   "id": "22dba976",
   "metadata": {},
   "outputs": [
    {
     "name": "stderr",
     "output_type": "stream",
     "text": [
      "100%|██████████| 598/598 [20:19<00:00,  2.04s/it]\n"
     ]
    }
   ],
   "source": [
    "# Define batch size\n",
    "batch_size = 32\n",
    "sentiments = []\n",
    "\n",
    "# Plug Headlines into FinBERT\n",
    "for i in tqdm(range(0, len(df), batch_size)):\n",
    "    batch = df[\"Headline\"].iloc[i:i+batch_size].astype(str).tolist()\n",
    "    inputs = tokenizer(batch, padding=True, truncation=True, return_tensors=\"pt\", max_length=128)\n",
    "\n",
    "    with torch.no_grad():\n",
    "        outputs = model(**inputs)\n",
    "        probs = torch.nn.functional.softmax(outputs.logits, dim=-1)\n",
    "    \n",
    "    # FinBERT labels: 0 = negative, 1 = neutral, 2 = positive\n",
    "    batch_scores = probs[:, 2] - probs[:, 0]  # Positive - Negative = Sentiment Score\n",
    "    sentiments.extend(batch_scores.numpy())\n",
    "\n",
    "df[\"finbert_sent\"] = sentiments"
   ]
  },
  {
   "cell_type": "markdown",
   "id": "23edd2ad",
   "metadata": {},
   "source": [
    "### Aggregation"
   ]
  },
  {
   "cell_type": "code",
   "execution_count": 5,
   "id": "2db6dc28",
   "metadata": {},
   "outputs": [],
   "source": [
    "# Aggregation: take mean of the raw sentiment estimate for every day (average of duplicate entries)\n",
    "# Note: choosing median for a more robust result is an other option here\n",
    "daily = (\n",
    "    df.groupby('Date', as_index=False)\n",
    "      .agg(hat_theta=('finbert_sent','mean'),\n",
    "           CP=('CP','last'),\n",
    "           Return_simple=('Return','last'),\n",
    "           Return_log=('Return_log','last'),\n",
    "           n_headlines=('Headline','size'))\n",
    ")"
   ]
  },
  {
   "cell_type": "markdown",
   "id": "fa332cd2",
   "metadata": {},
   "source": [
    "### Downstream economic model"
   ]
  },
  {
   "cell_type": "code",
   "execution_count": 6,
   "id": "c06ad8c4",
   "metadata": {},
   "outputs": [
    {
     "name": "stderr",
     "output_type": "stream",
     "text": [
      "C:\\Users\\49176\\AppData\\Local\\Temp\\ipykernel_12036\\2476678587.py:12: FutureWarning: The default of observed=False is deprecated and will be changed to True in a future version of pandas. Pass observed=False to retain current behavior or observed=True to adopt the future default and silence this warning.\n",
      "  for grp, dailyg in daily.groupby(\"C_group\"):\n"
     ]
    },
    {
     "name": "stdout",
     "output_type": "stream",
     "text": [
      "=== Group: low ===\n",
      "==============================================================================\n",
      "                 coef    std err          z      P>|z|      [0.025      0.975]\n",
      "------------------------------------------------------------------------------\n",
      "const      -2.663e-05      0.000     -0.061      0.952      -0.001       0.001\n",
      "hat_theta     -0.0002      0.001     -0.369      0.712      -0.001       0.001\n",
      "==============================================================================\n",
      "\n",
      "\n",
      "=== Group: medium ===\n",
      "==============================================================================\n",
      "                 coef    std err          z      P>|z|      [0.025      0.975]\n",
      "------------------------------------------------------------------------------\n",
      "const      -6.616e-06      0.000     -0.033      0.973      -0.000       0.000\n",
      "hat_theta     -0.0002      0.000     -0.683      0.495      -0.001       0.000\n",
      "==============================================================================\n",
      "\n",
      "\n",
      "=== Group: high ===\n",
      "==============================================================================\n",
      "                 coef    std err          z      P>|z|      [0.025      0.975]\n",
      "------------------------------------------------------------------------------\n",
      "const          0.0004      0.000      2.177      0.029    3.55e-05       0.001\n",
      "hat_theta      0.0004      0.000      1.179      0.238      -0.000       0.001\n",
      "==============================================================================\n",
      "\n",
      "\n"
     ]
    }
   ],
   "source": [
    "# OLS with Newey-West standard errors (HAC=heteroskedasticity and autocorrelation consistent)\n",
    "# Basismodell as introduced by Tetlock: R_t = γ0 + γ1 * θ̂_t + ε_t\n",
    "def ols_hac(y, X, lags=5):\n",
    "    Xc = sm.add_constant(X)\n",
    "    return sm.OLS(y, Xc, missing='drop').fit(cov_type='HAC', cov_kwds={'maxlags': lags})\n",
    "\n",
    "results_by_C = {}\n",
    "\n",
    "# Define groups for the amount of unstructered data (n_headlines): low, medium, high\n",
    "daily['C_group'] = pd.qcut(daily['n_headlines'], q=3, labels=[\"low\", \"medium\", \"high\"])\n",
    "\n",
    "for grp, dailyg in daily.groupby(\"C_group\"):\n",
    "    X = sm.add_constant(dailyg['hat_theta'])\n",
    "    y = dailyg['Return_simple']\n",
    "    model = sm.OLS(y, X).fit(cov_type='HAC', cov_kwds={'maxlags': 5})\n",
    "    results_by_C[grp] = model\n",
    "\n",
    "# Print results\n",
    "for grp, model in results_by_C.items():\n",
    "    print(f\"=== Group: {grp} ===\")\n",
    "    print(model.summary().tables[1])\n",
    "    print(\"\\n\")\n"
   ]
  },
  {
   "cell_type": "code",
   "execution_count": 8,
   "id": "79814586",
   "metadata": {},
   "outputs": [
    {
     "data": {
      "application/vnd.microsoft.datawrangler.viewer.v0+json": {
       "columns": [
        {
         "name": "index",
         "rawType": "int64",
         "type": "integer"
        },
        {
         "name": "Headline",
         "rawType": "object",
         "type": "string"
        },
        {
         "name": "Date",
         "rawType": "datetime64[ns]",
         "type": "datetime"
        },
        {
         "name": "CP",
         "rawType": "float64",
         "type": "float"
        },
        {
         "name": "Return",
         "rawType": "float64",
         "type": "float"
        },
        {
         "name": "Return_log",
         "rawType": "float64",
         "type": "float"
        },
        {
         "name": "finbert_sent",
         "rawType": "float32",
         "type": "float"
        }
       ],
       "ref": "c303e80e-45f8-456e-bec7-78ca871c25a3",
       "rows": [
        [
         "0",
         "JPMorgan Predicts 2008 Will Be \"Nothing But Net\"",
         "2008-01-02 00:00:00",
         "1447.16",
         null,
         null,
         "-0.9849703"
        ],
        [
         "1",
         "Dow Tallies Biggest First-session-of-year Point Drop Ever",
         "2008-01-02 00:00:00",
         "1447.16",
         "0.0",
         "0.0",
         "0.42918146"
        ],
        [
         "2",
         "2008 predictions for the S&P 500",
         "2008-01-02 00:00:00",
         "1447.16",
         "0.0",
         "0.0",
         "-0.999252"
        ],
        [
         "3",
         "U.S. Stocks Higher After Economic Data, Monsanto Outlook",
         "2008-01-03 00:00:00",
         "1447.16",
         "0.0",
         "0.0",
         "-1.2433505e-06"
        ],
        [
         "4",
         "U.S. Stocks Climb As Hopes Increase For More Fed Moves",
         "2008-01-07 00:00:00",
         "1416.18",
         "-0.0214074463086321",
         "-0.0216399093003841",
         "-0.016102947"
        ],
        [
         "5",
         "How Investing in Intangibles -- Like Employee Satisfaction -- Translates into Financial Returns",
         "2008-01-09 00:00:00",
         "1409.13",
         "-0.0049781807397364",
         "-0.0049906131591916",
         "-0.998232"
        ],
        [
         "6",
         "Head And Shoulders Top Bodes Ill For Bulls",
         "2008-01-09 00:00:00",
         "1409.13",
         "0.0",
         "0.0",
         "0.9835463"
        ],
        [
         "7",
         "U.S. Stocks Zigzag Higher As Bernanke Speech Sinks In",
         "2008-01-10 00:00:00",
         "1420.33",
         "0.0079481665992491",
         "0.0079167463024648",
         "-0.8754744"
        ],
        [
         "8",
         "It's a Black Monday as stock markets tank in every corner of the globe",
         "2008-01-22 00:00:00",
         "1310.5",
         "-0.0773271000401314",
         "-0.0804804951986546",
         "-0.9999784"
        ],
        [
         "9",
         "U.S. Stocks Largely Recover From Early Plunge",
         "2008-01-22 00:00:00",
         "1310.5",
         "0.0",
         "0.0",
         "-7.021404e-05"
        ],
        [
         "10",
         "U.S. Stocks Sink; Dow Off More Than 180 Points",
         "2008-01-22 00:00:00",
         "1310.5",
         "0.0",
         "0.0",
         "0.9751284"
        ],
        [
         "11",
         "Marriage - Tracy Collier and John Helvey | Community",
         "2008-01-22 00:00:00",
         "1310.5",
         "0.0",
         "0.0",
         "-0.9997471"
        ],
        [
         "12",
         "Former Connecticut hedge fund exec sues in son's drowning",
         "2008-01-29 00:00:00",
         "1362.3",
         "0.0395268981304846",
         "0.0387657040085541",
         "-0.94122094"
        ],
        [
         "13",
         "Super Bowl Ideas That Can Score",
         "2008-01-30 00:00:00",
         "1355.81",
         "-0.0047640020553475",
         "-0.0047753860832177",
         "-0.9956353"
        ],
        [
         "14",
         "New challenges at retooled Janus",
         "2008-02-01 00:00:00",
         "1395.42",
         "0.0292150080025963",
         "0.0287963835214222",
         "0.99998844"
        ],
        [
         "15",
         "The Flawed Fed Valuation Model - The Big Picture",
         "2008-02-05 00:00:00",
         "1336.64",
         "0.0",
         "0.0",
         "0.9999243"
        ],
        [
         "16",
         "Stocks Tumble As Data Signal Recession",
         "2008-02-05 00:00:00",
         "1336.64",
         "0.0",
         "0.0",
         "0.9999978"
        ],
        [
         "17",
         "Satin PS3 to launch in Japan • The Register",
         "2008-02-05 00:00:00",
         "1336.64",
         "-0.0421235183672299",
         "-0.043036442901409",
         "-0.99908566"
        ],
        [
         "18",
         "U.S. Stocks Drop As AIG Discloses Doubts About Portfolio",
         "2008-02-11 00:00:00",
         "1339.13",
         "0.0018628800574576",
         "0.0018611470483283",
         "0.99996305"
        ],
        [
         "19",
         "U.S. Stocks Cut Losses In The Wake Of AIG Disclosure",
         "2008-02-11 00:00:00",
         "1339.13",
         "0.0",
         "0.0",
         "0.50614464"
        ],
        [
         "20",
         "Piezo Driver generates its own high voltage.",
         "2008-02-21 00:00:00",
         "1342.53",
         "0.0025389618632991",
         "0.0025357441449195",
         "-0.99924964"
        ],
        [
         "21",
         "The Economic Drift",
         "2008-02-22 00:00:00",
         "1353.11",
         "0.0078806432630926",
         "0.0078497531770055",
         "0.99842596"
        ],
        [
         "22",
         "U.S. Stocks Reverse Day's Losses On Word Of Ambac Plan",
         "2008-02-22 00:00:00",
         "1353.11",
         "0.0",
         "0.0",
         "-0.7716858"
        ],
        [
         "23",
         "Warren Buffett - The richest investor in the World",
         "2008-02-28 00:00:00",
         "1367.68",
         "0.0107677868022557",
         "0.0107102270116641",
         "-0.9993027"
        ],
        [
         "24",
         "U.S. Stocks Open With Sharp Declines On AIG, Dell Losses",
         "2008-02-29 00:00:00",
         "1330.63",
         "-0.0270896700982685",
         "-0.0274633594173526",
         "0.99929863"
        ],
        [
         "25",
         "Snap up Crocs trendy 'o-dial' handset holder",
         "2008-03-05 00:00:00",
         "1333.7",
         "0.0023071778029954",
         "0.0023045203549733",
         "-0.99973196"
        ],
        [
         "26",
         "Lessons from Private Equity Any Company Can Use",
         "2008-03-07 00:00:00",
         "1293.37",
         "0.0",
         "0.0",
         "-0.99937665"
        ],
        [
         "27",
         "U.S. Stocks End Lower On Recession Fears; Dow Off 3% For Week",
         "2008-03-07 00:00:00",
         "1293.37",
         "-0.0302391842243384",
         "-0.0307058195655439",
         "0.99701285"
        ],
        [
         "28",
         "U.S. Stocks End Down For Third Consecutive Session",
         "2008-03-10 00:00:00",
         "1273.37",
         "-0.015463479128169",
         "-0.0155842857333669",
         "0.9987243"
        ],
        [
         "29",
         "U.S. Stocks Advance, Cheering Fed Liquidity Move",
         "2008-03-11 00:00:00",
         "1320.65",
         "0.0371298208690327",
         "0.0364571102923721",
         "-0.5063813"
        ],
        [
         "30",
         "Federal Reserve cuts key rate by 0.75 pct to 2.25 percent; dis",
         "2008-03-18 00:00:00",
         "1330.74",
         "0.0076401771854768",
         "0.0076111388433632",
         "-0.9918367"
        ],
        [
         "31",
         "U.S. Stocks Pull Lower On Oracle, Google Woes",
         "2008-03-27 00:00:00",
         "1325.76",
         "-0.003742278732134",
         "-0.0037492985761364",
         "0.9999474"
        ],
        [
         "32",
         "U.S. Stocks Quickly Shed Opening Gains Amid Fed Talk",
         "2008-04-02 00:00:00",
         "1367.53",
         "0.0315064566739078",
         "0.0310203130092471",
         "-0.007505146"
        ],
        [
         "33",
         "Sonic boom: Man uses hedgehog as a weapon",
         "2008-04-07 00:00:00",
         "1372.54",
         "0.0036635393739077",
         "0.0036568449587228",
         "-0.9998667"
        ],
        [
         "34",
         "Faith and money - Faith-based mutual funds (1)",
         "2008-04-16 00:00:00",
         "1364.71",
         "-0.005704751774083",
         "-0.0057210860219941",
         "-0.9999673"
        ],
        [
         "35",
         "U.S. Stocks Rally On Upbeat Intel View",
         "2008-04-16 00:00:00",
         "1364.71",
         "0.0",
         "0.0",
         "-2.1600888e-05"
        ],
        [
         "36",
         "Louisiana Sportsman",
         "2008-04-22 00:00:00",
         "1375.94",
         "0.0082288544819046",
         "0.0081951820564031",
         "-0.99927807"
        ],
        [
         "37",
         "Legg Mason's Miller: ‘By far the worst is behind us’",
         "2008-04-23 00:00:00",
         "1379.93",
         "0.0028998357486518",
         "0.0028956393356155",
         "0.9999896"
        ],
        [
         "38",
         "U.S. Stocks Fall On Economic Woes; Amazon Outlook Weighs",
         "2008-04-24 00:00:00",
         "1388.82",
         "0.0064423557716695",
         "0.006421692497021",
         "0.9999988"
        ],
        [
         "39",
         "U.S. Stock Indexes Close With Weekly Gains",
         "2008-04-25 00:00:00",
         "1397.84",
         "0.0064947221382181",
         "0.0064737223067305",
         "-0.999997"
        ],
        [
         "40",
         "Rockefellers Push ExxonMobil to Look Beyond Oil",
         "2008-05-05 00:00:00",
         "1407.49",
         "0.0069035082699022",
         "0.0068797881620863",
         "-0.9495085"
        ],
        [
         "41",
         "U.S. Stocks Shift Higher As Fannie Mae Reassures Investors",
         "2008-05-06 00:00:00",
         "1418.26",
         "0.007651919374205",
         "0.0076227919320131",
         "-0.0009027519"
        ],
        [
         "42",
         "U.S. Stocks Trade Broadly Lower Amid Oil-price Jitters",
         "2008-05-07 00:00:00",
         "1392.57",
         "-0.0181137450114929",
         "-0.0182798072870818",
         "-0.44582728"
        ],
        [
         "43",
         "Stocks Bear Market Relief Rally is Weaker than Expected",
         "2008-05-08 00:00:00",
         "1397.68",
         "0.0036694744249841",
         "0.0036627583283885",
         "0.9999534"
        ],
        [
         "44",
         "In the game again: Face to Face with Martin Flanagan",
         "2008-05-12 00:00:00",
         "1403.58",
         "0.0",
         "0.0",
         "-0.971202"
        ],
        [
         "45",
         "Water, Recession and the Growing Need to Invest",
         "2008-05-12 00:00:00",
         "1403.58",
         "0.0",
         "0.0",
         "0.98105794"
        ],
        [
         "46",
         "U.S. Stock Indexes Lodge Opening Gains, Sparked By Oil's Fall",
         "2008-05-12 00:00:00",
         "1403.58",
         "0.0042212809799093",
         "0.0042123963675415",
         "-0.000113467904"
        ],
        [
         "47",
         "U.S. Stocks Lower As Oil Rises To Another High",
         "2008-05-16 00:00:00",
         "1425.35",
         "0.015510337850354",
         "0.0153912820459187",
         "0.98643756"
        ],
        [
         "48",
         "Parker expands AC890 Ethernet communication cards",
         "2008-05-21 00:00:00",
         "1390.71",
         "-0.0243028028203597",
         "-0.0246029894975096",
         "-0.0047523677"
        ],
        [
         "49",
         "Kimberly-Clark (KMB) Dividend Analysis",
         "2008-05-23 00:00:00",
         "1375.93",
         "-0.0106276650056446",
         "-0.0106845419759029",
         "-0.999933"
        ]
       ],
       "shape": {
        "columns": 6,
        "rows": 19127
       }
      },
      "text/html": [
       "<div>\n",
       "<style scoped>\n",
       "    .dataframe tbody tr th:only-of-type {\n",
       "        vertical-align: middle;\n",
       "    }\n",
       "\n",
       "    .dataframe tbody tr th {\n",
       "        vertical-align: top;\n",
       "    }\n",
       "\n",
       "    .dataframe thead th {\n",
       "        text-align: right;\n",
       "    }\n",
       "</style>\n",
       "<table border=\"1\" class=\"dataframe\">\n",
       "  <thead>\n",
       "    <tr style=\"text-align: right;\">\n",
       "      <th></th>\n",
       "      <th>Headline</th>\n",
       "      <th>Date</th>\n",
       "      <th>CP</th>\n",
       "      <th>Return</th>\n",
       "      <th>Return_log</th>\n",
       "      <th>finbert_sent</th>\n",
       "    </tr>\n",
       "  </thead>\n",
       "  <tbody>\n",
       "    <tr>\n",
       "      <th>0</th>\n",
       "      <td>JPMorgan Predicts 2008 Will Be \"Nothing But Net\"</td>\n",
       "      <td>2008-01-02</td>\n",
       "      <td>1447.16</td>\n",
       "      <td>NaN</td>\n",
       "      <td>NaN</td>\n",
       "      <td>-9.849703e-01</td>\n",
       "    </tr>\n",
       "    <tr>\n",
       "      <th>1</th>\n",
       "      <td>Dow Tallies Biggest First-session-of-year Poin...</td>\n",
       "      <td>2008-01-02</td>\n",
       "      <td>1447.16</td>\n",
       "      <td>0.000000</td>\n",
       "      <td>0.000000</td>\n",
       "      <td>4.291815e-01</td>\n",
       "    </tr>\n",
       "    <tr>\n",
       "      <th>2</th>\n",
       "      <td>2008 predictions for the S&amp;P 500</td>\n",
       "      <td>2008-01-02</td>\n",
       "      <td>1447.16</td>\n",
       "      <td>0.000000</td>\n",
       "      <td>0.000000</td>\n",
       "      <td>-9.992520e-01</td>\n",
       "    </tr>\n",
       "    <tr>\n",
       "      <th>3</th>\n",
       "      <td>U.S. Stocks Higher After Economic Data, Monsan...</td>\n",
       "      <td>2008-01-03</td>\n",
       "      <td>1447.16</td>\n",
       "      <td>0.000000</td>\n",
       "      <td>0.000000</td>\n",
       "      <td>-1.243351e-06</td>\n",
       "    </tr>\n",
       "    <tr>\n",
       "      <th>4</th>\n",
       "      <td>U.S. Stocks Climb As Hopes Increase For More F...</td>\n",
       "      <td>2008-01-07</td>\n",
       "      <td>1416.18</td>\n",
       "      <td>-0.021407</td>\n",
       "      <td>-0.021640</td>\n",
       "      <td>-1.610295e-02</td>\n",
       "    </tr>\n",
       "    <tr>\n",
       "      <th>...</th>\n",
       "      <td>...</td>\n",
       "      <td>...</td>\n",
       "      <td>...</td>\n",
       "      <td>...</td>\n",
       "      <td>...</td>\n",
       "      <td>...</td>\n",
       "    </tr>\n",
       "    <tr>\n",
       "      <th>19122</th>\n",
       "      <td>Dow Jones, S&amp;P 500 end lower as investors awai...</td>\n",
       "      <td>2024-03-04</td>\n",
       "      <td>5130.95</td>\n",
       "      <td>0.000000</td>\n",
       "      <td>0.000000</td>\n",
       "      <td>7.008778e-01</td>\n",
       "    </tr>\n",
       "    <tr>\n",
       "      <th>19123</th>\n",
       "      <td>S&amp;P 500 edges lower as investors hold their br...</td>\n",
       "      <td>2024-03-04</td>\n",
       "      <td>5130.95</td>\n",
       "      <td>-0.001193</td>\n",
       "      <td>-0.001194</td>\n",
       "      <td>3.410302e-01</td>\n",
       "    </tr>\n",
       "    <tr>\n",
       "      <th>19124</th>\n",
       "      <td>S&amp;P 500 Price Forecast – S&amp;P 500 Continues to ...</td>\n",
       "      <td>2024-03-04</td>\n",
       "      <td>5130.95</td>\n",
       "      <td>0.000000</td>\n",
       "      <td>0.000000</td>\n",
       "      <td>-3.340593e-08</td>\n",
       "    </tr>\n",
       "    <tr>\n",
       "      <th>19125</th>\n",
       "      <td>Super Micro, Deckers to join S&amp;P 500 index</td>\n",
       "      <td>2024-03-04</td>\n",
       "      <td>5130.95</td>\n",
       "      <td>0.000000</td>\n",
       "      <td>0.000000</td>\n",
       "      <td>-9.998519e-01</td>\n",
       "    </tr>\n",
       "    <tr>\n",
       "      <th>19126</th>\n",
       "      <td>S&amp;P 500 Gains and Losses Today: Tesla Shares T...</td>\n",
       "      <td>2024-03-04</td>\n",
       "      <td>5130.95</td>\n",
       "      <td>0.000000</td>\n",
       "      <td>0.000000</td>\n",
       "      <td>9.999999e-01</td>\n",
       "    </tr>\n",
       "  </tbody>\n",
       "</table>\n",
       "<p>19127 rows × 6 columns</p>\n",
       "</div>"
      ],
      "text/plain": [
       "                                                Headline       Date       CP  \\\n",
       "0       JPMorgan Predicts 2008 Will Be \"Nothing But Net\" 2008-01-02  1447.16   \n",
       "1      Dow Tallies Biggest First-session-of-year Poin... 2008-01-02  1447.16   \n",
       "2                       2008 predictions for the S&P 500 2008-01-02  1447.16   \n",
       "3      U.S. Stocks Higher After Economic Data, Monsan... 2008-01-03  1447.16   \n",
       "4      U.S. Stocks Climb As Hopes Increase For More F... 2008-01-07  1416.18   \n",
       "...                                                  ...        ...      ...   \n",
       "19122  Dow Jones, S&P 500 end lower as investors awai... 2024-03-04  5130.95   \n",
       "19123  S&P 500 edges lower as investors hold their br... 2024-03-04  5130.95   \n",
       "19124  S&P 500 Price Forecast – S&P 500 Continues to ... 2024-03-04  5130.95   \n",
       "19125         Super Micro, Deckers to join S&P 500 index 2024-03-04  5130.95   \n",
       "19126  S&P 500 Gains and Losses Today: Tesla Shares T... 2024-03-04  5130.95   \n",
       "\n",
       "         Return  Return_log  finbert_sent  \n",
       "0           NaN         NaN -9.849703e-01  \n",
       "1      0.000000    0.000000  4.291815e-01  \n",
       "2      0.000000    0.000000 -9.992520e-01  \n",
       "3      0.000000    0.000000 -1.243351e-06  \n",
       "4     -0.021407   -0.021640 -1.610295e-02  \n",
       "...         ...         ...           ...  \n",
       "19122  0.000000    0.000000  7.008778e-01  \n",
       "19123 -0.001193   -0.001194  3.410302e-01  \n",
       "19124  0.000000    0.000000 -3.340593e-08  \n",
       "19125  0.000000    0.000000 -9.998519e-01  \n",
       "19126  0.000000    0.000000  9.999999e-01  \n",
       "\n",
       "[19127 rows x 6 columns]"
      ]
     },
     "execution_count": 8,
     "metadata": {},
     "output_type": "execute_result"
    }
   ],
   "source": [
    "df"
   ]
  },
  {
   "cell_type": "markdown",
   "id": "c9adf3dd",
   "metadata": {},
   "source": [
    "### Export final dataset as csv"
   ]
  },
  {
   "cell_type": "code",
   "execution_count": 9,
   "id": "0d4e8e8b",
   "metadata": {},
   "outputs": [],
   "source": [
    "daily.to_csv(\"../data/daily_headlines_embedded_FinBERT.csv\", index=False, encoding=\"utf-8\")\n",
    "df.to_csv(\"../data/sp500_headlines_2008_2024_FinBERT.csv\", index=False, encoding=\"utf-8\")"
   ]
  }
 ],
 "metadata": {
  "kernelspec": {
   "display_name": "Python 3",
   "language": "python",
   "name": "python3"
  },
  "language_info": {
   "codemirror_mode": {
    "name": "ipython",
    "version": 3
   },
   "file_extension": ".py",
   "mimetype": "text/x-python",
   "name": "python",
   "nbconvert_exporter": "python",
   "pygments_lexer": "ipython3",
   "version": "3.10.7"
  }
 },
 "nbformat": 4,
 "nbformat_minor": 5
}
