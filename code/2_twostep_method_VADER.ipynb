{
 "cells": [
  {
   "cell_type": "markdown",
   "id": "11dd151e",
   "metadata": {},
   "source": [
    "# 2: Two-Step Method using VADER as Lexicon-Based Model\n",
    "\n",
    "In this script, the two-step strategy is applied to the dataset sp500_headlines_2008_2024.csv:\n",
    "\n",
    "- Each article headline is evaluated with the VADER sentiment analyzer, yielding a sentiment score for the headline.\n",
    "- For each trading day, the average sentiment across all headlines is computed, where the number of available headlines on a given day serves as the measure C_i.\n",
    "- The daily sentiment estimate is then used as a generated regressor in a downstream economic model via simple linear regression.\n",
    "- To assess the role of C_i, the sample is split into three groups (low, medium, high number of headlines) and the regression is estimated separately for each group."
   ]
  },
  {
   "cell_type": "markdown",
   "id": "41f88468",
   "metadata": {},
   "source": [
    "### Import required packages"
   ]
  },
  {
   "cell_type": "code",
   "execution_count": 2,
   "id": "d303afae",
   "metadata": {},
   "outputs": [],
   "source": [
    "# Two-Step: Headlines -> Sentiment (θ̂t) -> Returns regression\n",
    "# Erwartete Spalten in deiner CSV: 'Date', 'Headline', 'CP'\n",
    "import pandas as pd\n",
    "import numpy as np\n",
    "import statsmodels.api as sm"
   ]
  },
  {
   "cell_type": "markdown",
   "id": "7f9a29d6",
   "metadata": {},
   "source": [
    "### Prepare Data"
   ]
  },
  {
   "cell_type": "code",
   "execution_count": 3,
   "id": "ce6bdc7a",
   "metadata": {},
   "outputs": [],
   "source": [
    "df = pd.read_csv('../data/sp500_headlines_2008_2004.csv')\n",
    "df['Date'] = pd.to_datetime(df['Date'])\n",
    "df = df.sort_values('Date').reset_index(drop=True)"
   ]
  },
  {
   "cell_type": "markdown",
   "id": "82e40211",
   "metadata": {},
   "source": [
    "### Two-step strategy"
   ]
  },
  {
   "cell_type": "code",
   "execution_count": 4,
   "id": "0a75f6e0",
   "metadata": {},
   "outputs": [],
   "source": [
    "# ---- 1) Sentiment pro Headline ----\n",
    "# Primär: VADER; Fallback: sehr einfaches Pos/Neg-Lexikon\n",
    "use_vader = True\n",
    "try:\n",
    "    from vaderSentiment.vaderSentiment import SentimentIntensityAnalyzer\n",
    "    sid = SentimentIntensityAnalyzer()\n",
    "    df['sent_raw'] = df['Headline'].astype(str).map(lambda x: sid.polarity_scores(x)['compound'])\n",
    "except Exception as e:\n",
    "    use_vader = False\n",
    "    pos = set(\"strong beat beats growth surge record upbeat rally gain improve upgrade robust\".split())\n",
    "    neg = set(\"fall falls fell drop drops miss concern concerns probe lawsuit volatility uncertainty downgrade weak\".split())\n",
    "    def lex_score(s: str) -> float:\n",
    "        words = str(s).lower().split()\n",
    "        score = sum(w in pos for w in words) - sum(w in neg for w in words)\n",
    "        return max(-1.0, min(1.0, score/5.0))\n",
    "    df['sent_raw'] = df['Headline'].map(lex_score)\n"
   ]
  },
  {
   "cell_type": "markdown",
   "id": "a10b8e51",
   "metadata": {},
   "source": [
    "### Aggregation"
   ]
  },
  {
   "cell_type": "code",
   "execution_count": 5,
   "id": "f297f93c",
   "metadata": {},
   "outputs": [],
   "source": [
    "# Aggregation: take mean mean of the raw sentiment estimate for every day (average of duplicate entries)\n",
    "# Note: choosing median for a more robust result is an extra option here\n",
    "daily = (\n",
    "    df.groupby('Date', as_index=False)\n",
    "      .agg(hat_theta=('sent_raw','mean'),\n",
    "           CP=('CP','last'),\n",
    "           Return_simple=('Return','last'),\n",
    "           Return_log=('Return_log','last'),\n",
    "           n_headlines=('Headline','size'))\n",
    ")"
   ]
  },
  {
   "cell_type": "markdown",
   "id": "c232e671",
   "metadata": {},
   "source": [
    "### Downstream economic model"
   ]
  },
  {
   "cell_type": "code",
   "execution_count": 6,
   "id": "799c5575",
   "metadata": {},
   "outputs": [
    {
     "name": "stdout",
     "output_type": "stream",
     "text": [
      "=== Group: low ===\n",
      "==============================================================================\n",
      "                 coef    std err          z      P>|z|      [0.025      0.975]\n",
      "------------------------------------------------------------------------------\n",
      "const       8.069e-05      0.000      0.285      0.775      -0.000       0.001\n",
      "hat_theta      0.0004      0.001      0.374      0.708      -0.002       0.003\n",
      "==============================================================================\n",
      "\n",
      "\n",
      "=== Group: medium ===\n",
      "==============================================================================\n",
      "                 coef    std err          z      P>|z|      [0.025      0.975]\n",
      "------------------------------------------------------------------------------\n",
      "const       9.346e-05      0.000      0.849      0.396      -0.000       0.000\n",
      "hat_theta  -9.097e-06      0.000     -0.020      0.984      -0.001       0.001\n",
      "==============================================================================\n",
      "\n",
      "\n",
      "=== Group: high ===\n",
      "==============================================================================\n",
      "                 coef    std err          z      P>|z|      [0.025      0.975]\n",
      "------------------------------------------------------------------------------\n",
      "const          0.0001      0.000      1.188      0.235    -8.7e-05       0.000\n",
      "hat_theta      0.0024      0.001      2.536      0.011       0.001       0.004\n",
      "==============================================================================\n",
      "\n",
      "\n"
     ]
    },
    {
     "name": "stderr",
     "output_type": "stream",
     "text": [
      "C:\\Users\\49176\\AppData\\Local\\Temp\\ipykernel_22484\\2476678587.py:12: FutureWarning: The default of observed=False is deprecated and will be changed to True in a future version of pandas. Pass observed=False to retain current behavior or observed=True to adopt the future default and silence this warning.\n",
      "  for grp, dailyg in daily.groupby(\"C_group\"):\n"
     ]
    }
   ],
   "source": [
    "# OLS with Newey-West standard errors (HAC=heteroskedasticity and autocorrelation consistent)\n",
    "# Basismodell as introduced by Tetlock: R_t = γ0 + γ1 * θ̂_t + ε_t\n",
    "def ols_hac(y, X, lags=5):\n",
    "    Xc = sm.add_constant(X)\n",
    "    return sm.OLS(y, Xc, missing='drop').fit(cov_type='HAC', cov_kwds={'maxlags': lags})\n",
    "\n",
    "results_by_C = {}\n",
    "\n",
    "# Define groups for the amount of unstructered data (n_headlines): low, medium, high\n",
    "daily['C_group'] = pd.qcut(daily['n_headlines'], q=3, labels=[\"low\", \"medium\", \"high\"])\n",
    "\n",
    "for grp, dailyg in daily.groupby(\"C_group\"):\n",
    "    X = sm.add_constant(dailyg['hat_theta'])\n",
    "    y = dailyg['Return_simple']\n",
    "    model = sm.OLS(y, X).fit(cov_type='HAC', cov_kwds={'maxlags': 5})\n",
    "    results_by_C[grp] = model\n",
    "\n",
    "# Print results\n",
    "for grp, model in results_by_C.items():\n",
    "    print(f\"=== Group: {grp} ===\")\n",
    "    print(model.summary().tables[1])\n",
    "    print(\"\\n\")\n"
   ]
  }
 ],
 "metadata": {
  "kernelspec": {
   "display_name": "Python 3",
   "language": "python",
   "name": "python3"
  },
  "language_info": {
   "codemirror_mode": {
    "name": "ipython",
    "version": 3
   },
   "file_extension": ".py",
   "mimetype": "text/x-python",
   "name": "python",
   "nbconvert_exporter": "python",
   "pygments_lexer": "ipython3",
   "version": "3.10.7"
  }
 },
 "nbformat": 4,
 "nbformat_minor": 5
}
