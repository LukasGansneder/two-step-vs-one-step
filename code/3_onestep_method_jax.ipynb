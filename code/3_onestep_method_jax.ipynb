{
 "cells": [
  {
   "cell_type": "markdown",
   "id": "e4bfcc3f",
   "metadata": {},
   "source": [
    "### Import required packages"
   ]
  },
  {
   "cell_type": "code",
   "execution_count": 16,
   "id": "10b2f3a8",
   "metadata": {},
   "outputs": [
    {
     "data": {
      "text/plain": [
       "'print(\"NumPy:\", jn.__version__) # should be 1.26.4\\nprint(\"SciPy:\", scipy.__version__) # should be1.10.1\\nprint(\"PyTensor:\", pytensor.__version__) # should be2.20.0\\nprint(\"PyMC:\", pm.__version__) # should be5.13.1'"
      ]
     },
     "execution_count": 16,
     "metadata": {},
     "output_type": "execute_result"
    }
   ],
   "source": [
    "import jax.numpy as jnp\n",
    "from jax import random\n",
    "import numpyro\n",
    "import pandas as pd\n",
    "import numpy as np\n",
    "import numpyro.distributions as dist\n",
    "from numpyro.infer import MCMC, NUTS\n",
    "import arviz as az\n",
    "\n",
    "\n",
    "'''print(\"NumPy:\", jn.__version__) # should be 1.26.4\n",
    "print(\"SciPy:\", scipy.__version__) # should be1.10.1\n",
    "print(\"PyTensor:\", pytensor.__version__) # should be2.20.0\n",
    "print(\"PyMC:\", pm.__version__) # should be5.13.1'''"
   ]
  },
  {
   "cell_type": "markdown",
   "id": "3edb0cfa",
   "metadata": {},
   "source": [
    "### Read in data"
   ]
  },
  {
   "cell_type": "code",
   "execution_count": 17,
   "id": "8d46cfb4",
   "metadata": {},
   "outputs": [],
   "source": [
    "df_FinBERT = pd.read_csv('../data/sp500_headlines_2008_2024_FinBERT.csv')\n",
    "df_FinBERT['Date'] = pd.to_datetime(df_FinBERT['Date'])\n",
    "df_FinBERT = df_FinBERT.sort_values('Date').reset_index(drop=True)"
   ]
  },
  {
   "cell_type": "markdown",
   "id": "05584b64",
   "metadata": {},
   "source": [
    "### Data pre-processing"
   ]
  },
  {
   "cell_type": "code",
   "execution_count": 18,
   "id": "1225ab7f",
   "metadata": {},
   "outputs": [],
   "source": [
    "# Build daily table for the outcome (one row per day)\n",
    "daily = (df_FinBERT.groupby(\"Date\", as_index=False)\n",
    "           .agg(Return=(\"Return\", \"last\")))\n",
    "daily[\"t_idx\"] = np.arange(len(daily))\n",
    "\n",
    "# Map each headline to its day's index\n",
    "date_to_idx = dict(zip(daily[\"Date\"], daily[\"t_idx\"]))\n",
    "df_FinBERT[\"t_idx\"] = df_FinBERT[\"Date\"].map(date_to_idx)\n",
    "\n",
    "# Subset of all non-NA FinBERT sentiments\n",
    "obs_fin = df_FinBERT.loc[~df_FinBERT[\"finbert_sent\"].isna(), [\"t_idx\", \"finbert_sent\"]]\n",
    "t_fin = obs_fin[\"t_idx\"].to_numpy(dtype=int)\n",
    "s_fin = obs_fin[\"finbert_sent\"].to_numpy(dtype=float)\n",
    "\n",
    "# Outcome vector (daily returns) and T (#days)\n",
    "y = daily[\"Return\"].to_numpy(dtype=float)\n",
    "T = len(daily)\n",
    "\n",
    "# Also handy: C_t = number of headlines per day (not required, but can be used for heteroskedastic measurement noise)\n",
    "C_per_day = df_FinBERT.groupby(\"t_idx\").size().reindex(range(T)).fillna(0).to_numpy(int)\n",
    "\n",
    "# For each observed headline get the day's C_t (useful if modeling sigma ∝ 1/sqrt(C_t))\n",
    "C_fin = C_per_day[t_fin]\n",
    "\n",
    "# cast for jax\n",
    "T_py = int(T)\n",
    "y_jnp     = jnp.array(y)\n",
    "t_fin_jnp = jnp.array(t_fin, dtype=jnp.int32)\n",
    "s_fin_jnp = jnp.array(s_fin)\n",
    "C_fin_jnp = jnp.array(C_fin)\n"
   ]
  },
  {
   "cell_type": "markdown",
   "id": "5f273c62",
   "metadata": {},
   "source": [
    "### Sampling algorithms for different priors"
   ]
  },
  {
   "cell_type": "code",
   "execution_count": 19,
   "id": "4333c2ce",
   "metadata": {},
   "outputs": [],
   "source": [
    "# iid-prior for theta\n",
    "def model_iid(T, y, t_fin, s_fin, C_fin):\n",
    "    # Latente Tages-Sentiments (i.i.d.)\n",
    "    sigma_theta = numpyro.sample(\"sigma_theta\", dist.HalfNormal(1.0))\n",
    "    theta = numpyro.sample(\"theta\", dist.Normal(0.0, sigma_theta).expand([T]).to_event(1))\n",
    "\n",
    "    # Messfehler-Varianz skaliert mit 1/sqrt(C_t)\n",
    "    sigma_fin_base = numpyro.sample(\"sigma_fin_base\", dist.HalfNormal(0.5))\n",
    "    sigma_fin = sigma_fin_base / jnp.sqrt(jnp.clip(C_fin, 1.0, 1e9))\n",
    "\n",
    "    # Headlines-Likelihood (je Headline Beobachtung)\n",
    "    mu_fin = theta[t_fin]\n",
    "    numpyro.sample(\"finbert_obs\", dist.Normal(mu_fin, sigma_fin), obs=s_fin)\n",
    "\n",
    "    # Downstream: Returns ~ theta\n",
    "    gamma0 = numpyro.sample(\"gamma0\", dist.Normal(0.0, 0.01))\n",
    "    gamma1 = numpyro.sample(\"gamma1\", dist.Normal(0.0, 0.01))\n",
    "    sigma_y = numpyro.sample(\"sigma_y\", dist.HalfNormal(0.01))\n",
    "\n",
    "    mu_y = gamma0 + gamma1 * theta\n",
    "    numpyro.sample(\"y_obs\", dist.Normal(mu_y, sigma_y), obs=y)\n",
    "\n",
    "# AR(1)-prior for theta \n",
    "def model_ar1(T, y, t_fin, s_fin, C_fin):\n",
    "    # AR(1)-Parameter\n",
    "    rho = numpyro.sample(\"rho\", dist.Uniform(-0.95, 0.95))\n",
    "    tau = numpyro.sample(\"tau\", dist.HalfNormal(1.0))\n",
    "    mu_theta = numpyro.sample(\"mu_theta\", dist.Normal(0.0, 1.0))\n",
    "\n",
    "    # Stationäre Varianz der AR(1)\n",
    "    sigma0 = tau / jnp.sqrt(1.0 - rho**2 + 1e-8)\n",
    "\n",
    "    # AR(1) State-Space\n",
    "    theta0 = numpyro.sample(\"theta_0\", dist.Normal(mu_theta, sigma0))\n",
    "    thetas = [theta0]\n",
    "    for t in range(1, int(T)):\n",
    "        mean_t = mu_theta * (1.0 - rho) + rho * thetas[-1]\n",
    "        thetas.append(numpyro.sample(f\"theta_{t}\", dist.Normal(mean_t, tau)))\n",
    "    theta = jnp.stack(thetas)  # shape (T,)\n",
    "\n",
    "    # Messfehler-Varianz: 1/sqrt(C_t)\n",
    "    sigma_fin_base = numpyro.sample(\"sigma_fin_base\", dist.HalfNormal(0.5))\n",
    "    sigma_fin = sigma_fin_base / jnp.sqrt(jnp.clip(C_fin, 1.0, 1e9))\n",
    "\n",
    "    # Headlines-Likelihood\n",
    "    mu_fin = theta[t_fin]\n",
    "    numpyro.sample(\"finbert_obs\", dist.Normal(mu_fin, sigma_fin), obs=s_fin)\n",
    "\n",
    "    # Downstream: Returns ~ theta\n",
    "    gamma0 = numpyro.sample(\"gamma0\", dist.Normal(0.0, 0.01))\n",
    "    gamma1 = numpyro.sample(\"gamma1\", dist.Normal(0.0, 0.01))\n",
    "    sigma_y = numpyro.sample(\"sigma_y\", dist.HalfNormal(0.01))\n",
    "\n",
    "    mu_y = gamma0 + gamma1 * theta\n",
    "    numpyro.sample(\"y_obs\", dist.Normal(mu_y, sigma_y), obs=y)\n",
    "\n"
   ]
  },
  {
   "cell_type": "markdown",
   "id": "ab904834",
   "metadata": {},
   "source": [
    "### iid-posterior"
   ]
  },
  {
   "cell_type": "code",
   "execution_count": 20,
   "id": "5c79967f",
   "metadata": {},
   "outputs": [
    {
     "name": "stderr",
     "output_type": "stream",
     "text": [
      "C:\\Users\\49176\\AppData\\Local\\Temp\\ipykernel_2720\\977082234.py:5: UserWarning: There are not enough devices to run parallel chains: expected 2 but got 1. Chains will be drawn sequentially. If you are running MCMC in CPU, consider using `numpyro.set_host_device_count(2)` at the beginning of your program. You can double-check how many devices are available in your system using `jax.local_device_count()`.\n",
      "  mcmc = MCMC(nuts, num_warmup=800, num_samples=1200, num_chains=2, progress_bar=True)\n",
      "sample: 100%|██████████| 2000/2000 [10:59<00:00,  3.03it/s, 511 steps of size 8.72e-03. acc. prob=0.95]\n",
      "sample: 100%|██████████| 2000/2000 [10:01<00:00,  3.32it/s, 511 steps of size 9.31e-03. acc. prob=0.95]\n"
     ]
    },
    {
     "name": "stdout",
     "output_type": "stream",
     "text": [
      "                  mean      sd  hdi_3%  hdi_97%  mcse_mean  mcse_sd  \\\n",
      "gamma0          0.0032  0.0001  0.0031   0.0034     0.0000   0.0000   \n",
      "gamma1          0.0121  0.0003  0.0116   0.0127     0.0000   0.0000   \n",
      "sigma_y         0.0020  0.0001  0.0018   0.0023     0.0000   0.0000   \n",
      "sigma_theta     0.6678  0.0191  0.6345   0.7043     0.0016   0.0007   \n",
      "sigma_fin_base  2.4667  0.0130  2.4397   2.4893     0.0002   0.0003   \n",
      "\n",
      "                 ess_bulk   ess_tail   r_hat  \n",
      "gamma0           508.4830  1001.9505  1.0031  \n",
      "gamma1           134.2164   265.7242  1.0178  \n",
      "sigma_y           91.1527   234.2273  1.0526  \n",
      "sigma_theta      151.6040   379.6563  1.0181  \n",
      "sigma_fin_base  3842.7914  1640.2045  1.0008  \n"
     ]
    },
    {
     "data": {
      "text/plain": [
       "<Axes: title={'center': 'gamma1'}>"
      ]
     },
     "execution_count": 20,
     "metadata": {},
     "output_type": "execute_result"
    },
    {
     "data": {
      "image/png": "[encoded data removed]",
      "text/plain": [
       "<Figure size 640x480 with 1 Axes>"
      ]
     },
     "metadata": {},
     "output_type": "display_data"
    }
   ],
   "source": [
    "rng_key = random.PRNGKey(42)\n",
    "\n",
    "# i.i.d.-theta (schneller erster Lauf)\n",
    "nuts = NUTS(model_iid, target_accept_prob=0.9)\n",
    "mcmc = MCMC(nuts, num_warmup=800, num_samples=1200, num_chains=2, progress_bar=True)\n",
    "mcmc.run(rng_key, T=T_py, y=y_jnp, t_fin=t_fin_jnp, s_fin=s_fin_jnp, C_fin=C_fin_jnp)\n",
    "posterior_iid = mcmc.get_samples()\n",
    "idata_iid = az.from_numpyro(mcmc)\n",
    "\n",
    "print(az.summary(idata_iid, var_names=[\"gamma0\",\"gamma1\",\"sigma_y\",\"sigma_theta\",\"sigma_fin_base\"], round_to=4))\n",
    "az.plot_posterior(idata_iid, var_names=[\"gamma1\"])\n"
   ]
  },
  {
   "cell_type": "markdown",
   "id": "52e0ad6c",
   "metadata": {},
   "source": [
    "### AR(1)-posterior"
   ]
  },
  {
   "cell_type": "code",
   "execution_count": null,
   "id": "302550dc",
   "metadata": {},
   "outputs": [],
   "source": [
    "rng_key = random.PRNGKey(123)\n",
    "\n",
    "nuts_ar1 = NUTS(model_ar1, target_accept_prob=0.9)\n",
    "mcmc_ar1 = MCMC(nuts_ar1, num_warmup=1000, num_samples=1500, num_chains=2, progress_bar=True)\n",
    "mcmc_ar1.run(rng_key, T=T_py, y=y_jnp, t_fin=t_fin_jnp, s_fin=s_fin_jnp, C_fin=C_fin_jnp)\n",
    "idata_ar1 = az.from_numpyro(mcmc_ar1)\n",
    "\n",
    "print(az.summary(idata_ar1, var_names=[\"gamma0\",\"gamma1\",\"sigma_y\",\"mu_theta\",\"rho\",\"tau\",\"sigma_fin_base\"], round_to=4))\n",
    "az.plot_posterior(idata_ar1, var_names=[\"gamma1\",\"rho\"])"
   ]
  },
  {
   "cell_type": "code",
   "execution_count": null,
   "id": "5e77ce6a",
   "metadata": {},
   "outputs": [],
   "source": [
    "# Posterior-Mittel von theta bei AR(1):\n",
    "theta_names = [v for v in idata_ar1.posterior.data_vars if v.startswith(\"theta_\")] + ([\"theta_0\"] if \"theta_0\" in idata_ar1.posterior.data_vars else [])\n",
    "# Sortieren nach Index\n",
    "theta_names = sorted(theta_names, key=lambda s: int(s.split(\"_\")[1]) if \"_\" in s else 0)\n",
    "\n",
    "theta_stack = jnp.stack([idata_ar1.posterior[v].values for v in theta_names], axis=0)  # (T, chains, draws)\n",
    "theta_mean = theta_stack.mean(axis=(1,2))  # (T,)\n",
    "\n",
    "# In dein daily mergen\n",
    "daily_plot = daily.copy()\n",
    "daily_plot[\"theta_mean\"] = np.array(theta_mean)\n",
    "print(daily_plot.head())\n"
   ]
  },
  {
   "cell_type": "markdown",
   "id": "3984be6e",
   "metadata": {},
   "source": [
    "### Export results"
   ]
  },
  {
   "cell_type": "markdown",
   "id": "72bc66b4",
   "metadata": {},
   "source": [
    "iid-prior"
   ]
  },
  {
   "cell_type": "code",
   "execution_count": 23,
   "id": "184c4c81",
   "metadata": {},
   "outputs": [],
   "source": [
    "summary_df = az.summary(\n",
    "    idata_iid,\n",
    "    var_names=[\"gamma0\", \"gamma1\", \"sigma_y\", \"sigma_theta\", \"sigma_fin_base\"],\n",
    "    round_to=6\n",
    ")\n",
    "summary_df.to_csv(\"../data/iid_summary.csv\")\n",
    "\n",
    "th = idata_iid.posterior[\"theta\"]  # (chain, draw, time)\n",
    "theta_mean = th.mean(dim=(\"chain\",\"draw\")).to_numpy()\n",
    "theta_lo   = th.quantile(0.025, dim=(\"chain\",\"draw\")).to_numpy()\n",
    "theta_hi   = th.quantile(0.975, dim=(\"chain\",\"draw\")).to_numpy()\n",
    "daily_iid = daily.copy()\n",
    "daily_iid[\"theta_mean\"] = theta_mean\n",
    "daily_iid[\"theta_low\"]  = theta_lo\n",
    "daily_iid[\"theta_high\"] = theta_hi\n",
    "daily_iid.to_csv(\"../data/latent_sentiment_iid.csv\", index=False)\n"
   ]
  },
  {
   "cell_type": "markdown",
   "id": "b5b3808c",
   "metadata": {},
   "source": [
    "AR(1)-prior"
   ]
  },
  {
   "cell_type": "code",
   "execution_count": null,
   "id": "50778076",
   "metadata": {},
   "outputs": [],
   "source": [
    "summary_ar1 = az.summary(\n",
    "    idata_ar1,\n",
    "    var_names=[\"gamma0\",\"gamma1\",\"sigma_y\",\"mu_theta\",\"rho\",\"tau\",\"sigma_fin_base\"],\n",
    "    round_to=6\n",
    ")\n",
    "summary_ar1.to_csv(\"../data/ar1_summary.csv\")\n",
    "\n",
    "\n",
    "theta_vars = [v for v in idata_ar1.posterior.data_vars if re.fullmatch(r\"theta_\\d+\", v)]\n",
    "theta_vars = sorted(theta_vars, key=lambda s: int(s.split(\"_\")[1]))  # numerisch sortieren\n",
    "theta_stack = np.stack([idata_ar1.posterior[v].values for v in theta_vars], axis=0)\n",
    "theta_mean = theta_stack.mean(axis=(1,2))\n",
    "theta_low  = np.quantile(theta_stack, 0.025, axis=(1,2))\n",
    "theta_high = np.quantile(theta_stack, 0.975, axis=(1,2))\n",
    "daily_ar1 = daily.copy()  # enthält Date in der richtigen Reihenfolge / t_idx\n",
    "daily_ar1[\"theta_mean\"] = theta_mean\n",
    "daily_ar1[\"theta_low\"]  = theta_low\n",
    "daily_ar1[\"theta_high\"] = theta_high\n",
    "daily_ar1.to_csv(\"../data/latent_sentiment_ar1.csv\", index=False)"
   ]
  }
 ],
 "metadata": {
  "kernelspec": {
   "display_name": "Python 3",
   "language": "python",
   "name": "python3"
  },
  "language_info": {
   "codemirror_mode": {
    "name": "ipython",
    "version": 3
   },
   "file_extension": ".py",
   "mimetype": "text/x-python",
   "name": "python",
   "nbconvert_exporter": "python",
   "pygments_lexer": "ipython3",
   "version": "3.10.7"
  }
 },
 "nbformat": 4,
 "nbformat_minor": 5
}
