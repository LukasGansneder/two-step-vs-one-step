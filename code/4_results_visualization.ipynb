{
 "cells": [
  {
   "cell_type": "markdown",
   "id": "7cc1335f",
   "metadata": {},
   "source": [
    "### Import required packages"
   ]
  },
  {
   "cell_type": "code",
   "execution_count": 1,
   "id": "526dbf4c",
   "metadata": {},
   "outputs": [],
   "source": [
    "import pandas as pd\n",
    "import arviz as az"
   ]
  },
  {
   "cell_type": "markdown",
   "id": "8f5d0e4f",
   "metadata": {},
   "source": [
    "### Read in results from the two different methods"
   ]
  },
  {
   "cell_type": "code",
   "execution_count": 3,
   "id": "f208367e",
   "metadata": {},
   "outputs": [
    {
     "name": "stdout",
     "output_type": "stream",
     "text": [
      "                    mean        sd    hdi_3%   hdi_97%  mcse_mean   mcse_sd  \\\n",
      "gamma0          0.003245  0.000097  0.003068  0.003436   0.000004  0.000002   \n",
      "gamma1          0.012127  0.000325  0.011552  0.012734   0.000028  0.000015   \n",
      "sigma_y         0.002023  0.000125  0.001815  0.002268   0.000013  0.000007   \n",
      "sigma_theta     0.667828  0.019107  0.634465  0.704317   0.001567  0.000661   \n",
      "sigma_fin_base  2.466729  0.012959  2.439698  2.489269   0.000208  0.000323   \n",
      "\n",
      "                   ess_bulk     ess_tail     r_hat  \n",
      "gamma0           508.483021  1001.950467  1.003141  \n",
      "gamma1           134.216410   265.724180  1.017758  \n",
      "sigma_y           91.152699   234.227296  1.052611  \n",
      "sigma_theta      151.604035   379.656315  1.018107  \n",
      "sigma_fin_base  3842.791384  1640.204484  1.000760  \n"
     ]
    }
   ],
   "source": [
    "iid_summary = pd.read_csv(\"../data/iid_summary.csv\", index_col=0)\n",
    "# ar_summary = pd.read_csv(\"../data/ar_summary.csv\", index_col=0)\n",
    "print(iid_summary)"
   ]
  },
  {
   "cell_type": "code",
   "execution_count": null,
   "id": "85ac7afd",
   "metadata": {},
   "outputs": [],
   "source": [
    "daily  = pd.read_csv(\"../data/iid_summary.csv\", index_col=0)"
   ]
  },
  {
   "cell_type": "code",
   "execution_count": null,
   "id": "4d4a75ad",
   "metadata": {},
   "outputs": [],
   "source": [
    "df_FinBERT = pd.read_csv('../data/sp500_headlines_2008_2024_FinBERT.csv')"
   ]
  }
 ],
 "metadata": {
  "kernelspec": {
   "display_name": "Python 3",
   "language": "python",
   "name": "python3"
  },
  "language_info": {
   "codemirror_mode": {
    "name": "ipython",
    "version": 3
   },
   "file_extension": ".py",
   "mimetype": "text/x-python",
   "name": "python",
   "nbconvert_exporter": "python",
   "pygments_lexer": "ipython3",
   "version": "3.10.7"
  }
 },
 "nbformat": 4,
 "nbformat_minor": 5
}
