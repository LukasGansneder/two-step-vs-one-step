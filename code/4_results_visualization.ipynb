{
 "cells": [
  {
   "cell_type": "markdown",
   "id": "7cc1335f",
   "metadata": {},
   "source": [
    "### Import required packages"
   ]
  },
  {
   "cell_type": "code",
   "execution_count": 1,
   "id": "526dbf4c",
   "metadata": {},
   "outputs": [],
   "source": [
    "import pandas as pd\n",
    "import arviz as az"
   ]
  },
  {
   "cell_type": "markdown",
   "id": "8f5d0e4f",
   "metadata": {},
   "source": [
    "### Read in results from the two different methods"
   ]
  },
  {
   "cell_type": "code",
   "execution_count": null,
   "id": "f208367e",
   "metadata": {},
   "outputs": [],
   "source": [
    "idata_iid = az.from_netcdf(\"../data/idata_iid.nc\")\n",
    "summary_df = pd.read_csv(\"../data/iid_summary.csv\", index_col=0)\n",
    "# print(summary_df)"
   ]
  },
  {
   "cell_type": "code",
   "execution_count": null,
   "id": "33194842",
   "metadata": {},
   "outputs": [],
   "source": [
    "'''idata_ar1 = az.from_netcdf(\"../data/idata_ar1.nc\")\n",
    "summary_ar1 = pd.read_csv(\"../data/ar1_summary.csv\", index_col=0)\n",
    "# print(summary_ar1)'''"
   ]
  },
  {
   "cell_type": "code",
   "execution_count": null,
   "id": "4d4a75ad",
   "metadata": {},
   "outputs": [],
   "source": [
    "df_FinBERT = pd.read_csv('../data/sp500_headlines_2008_2024_FinBERT.csv')"
   ]
  }
 ],
 "metadata": {
  "kernelspec": {
   "display_name": "Python 3",
   "language": "python",
   "name": "python3"
  },
  "language_info": {
   "codemirror_mode": {
    "name": "ipython",
    "version": 3
   },
   "file_extension": ".py",
   "mimetype": "text/x-python",
   "name": "python",
   "nbconvert_exporter": "python",
   "pygments_lexer": "ipython3",
   "version": "3.10.7"
  }
 },
 "nbformat": 4,
 "nbformat_minor": 5
}
