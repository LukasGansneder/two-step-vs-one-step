{
 "cells": [
  {
   "cell_type": "markdown",
   "id": "7cc1335f",
   "metadata": {},
   "source": [
    "### Import required packages"
   ]
  },
  {
   "cell_type": "code",
   "execution_count": 32,
   "id": "526dbf4c",
   "metadata": {},
   "outputs": [],
   "source": [
    "import pandas as pd\n",
    "import numpy as np\n",
    "import arviz as az\n",
    "import statsmodels.api as sm"
   ]
  },
  {
   "cell_type": "markdown",
   "id": "8f5d0e4f",
   "metadata": {},
   "source": [
    "### Read in results from the two different methods"
   ]
  },
  {
   "cell_type": "code",
   "execution_count": 11,
   "id": "f208367e",
   "metadata": {},
   "outputs": [],
   "source": [
    "iid_summary = pd.read_csv(\"../data/iid_summary.csv\", index_col=0)\n",
    "ar1_summary = pd.read_csv(\"../data/ar1_summary.csv\", index_col=0)\n",
    "\n",
    "df_FinBERT = pd.read_csv('../data/sp500_headlines_2008_2024_FinBERT.csv')"
   ]
  },
  {
   "cell_type": "code",
   "execution_count": 28,
   "id": "ffb481cd",
   "metadata": {},
   "outputs": [
    {
     "data": {
      "application/vnd.microsoft.datawrangler.viewer.v0+json": {
       "columns": [
        {
         "name": "index",
         "rawType": "object",
         "type": "string"
        },
        {
         "name": "mean",
         "rawType": "float64",
         "type": "float"
        },
        {
         "name": "sd",
         "rawType": "float64",
         "type": "float"
        },
        {
         "name": "hdi_3%",
         "rawType": "float64",
         "type": "float"
        },
        {
         "name": "hdi_97%",
         "rawType": "float64",
         "type": "float"
        },
        {
         "name": "mcse_mean",
         "rawType": "float64",
         "type": "float"
        },
        {
         "name": "mcse_sd",
         "rawType": "float64",
         "type": "float"
        },
        {
         "name": "ess_bulk",
         "rawType": "float64",
         "type": "float"
        },
        {
         "name": "ess_tail",
         "rawType": "float64",
         "type": "float"
        },
        {
         "name": "r_hat",
         "rawType": "float64",
         "type": "float"
        }
       ],
       "ref": "7508ef98-b57f-4540-a1b0-230a0e9cebc6",
       "rows": [
        [
         "gamma0",
         "0.003245",
         "9.7e-05",
         "0.003068",
         "0.003436",
         "4e-06",
         "2e-06",
         "508.483021",
         "1001.950467",
         "1.003141"
        ],
        [
         "gamma1",
         "0.012127",
         "0.000325",
         "0.011552",
         "0.012734",
         "2.8e-05",
         "1.5e-05",
         "134.21641",
         "265.72418",
         "1.017758"
        ],
        [
         "sigma_y",
         "0.002023",
         "0.000125",
         "0.001815",
         "0.002268",
         "1.3e-05",
         "7e-06",
         "91.152699",
         "234.227296",
         "1.052611"
        ],
        [
         "sigma_theta",
         "0.667828",
         "0.019107",
         "0.634465",
         "0.704317",
         "0.001567",
         "0.000661",
         "151.604035",
         "379.656315",
         "1.018107"
        ],
        [
         "sigma_fin_base",
         "2.466729",
         "0.012959",
         "2.439698",
         "2.489269",
         "0.000208",
         "0.000323",
         "3842.791384",
         "1640.204484",
         "1.00076"
        ]
       ],
       "shape": {
        "columns": 9,
        "rows": 5
       }
      },
      "text/html": [
       "<div>\n",
       "<style scoped>\n",
       "    .dataframe tbody tr th:only-of-type {\n",
       "        vertical-align: middle;\n",
       "    }\n",
       "\n",
       "    .dataframe tbody tr th {\n",
       "        vertical-align: top;\n",
       "    }\n",
       "\n",
       "    .dataframe thead th {\n",
       "        text-align: right;\n",
       "    }\n",
       "</style>\n",
       "<table border=\"1\" class=\"dataframe\">\n",
       "  <thead>\n",
       "    <tr style=\"text-align: right;\">\n",
       "      <th></th>\n",
       "      <th>mean</th>\n",
       "      <th>sd</th>\n",
       "      <th>hdi_3%</th>\n",
       "      <th>hdi_97%</th>\n",
       "      <th>mcse_mean</th>\n",
       "      <th>mcse_sd</th>\n",
       "      <th>ess_bulk</th>\n",
       "      <th>ess_tail</th>\n",
       "      <th>r_hat</th>\n",
       "    </tr>\n",
       "  </thead>\n",
       "  <tbody>\n",
       "    <tr>\n",
       "      <th>gamma0</th>\n",
       "      <td>0.003245</td>\n",
       "      <td>0.000097</td>\n",
       "      <td>0.003068</td>\n",
       "      <td>0.003436</td>\n",
       "      <td>0.000004</td>\n",
       "      <td>0.000002</td>\n",
       "      <td>508.483021</td>\n",
       "      <td>1001.950467</td>\n",
       "      <td>1.003141</td>\n",
       "    </tr>\n",
       "    <tr>\n",
       "      <th>gamma1</th>\n",
       "      <td>0.012127</td>\n",
       "      <td>0.000325</td>\n",
       "      <td>0.011552</td>\n",
       "      <td>0.012734</td>\n",
       "      <td>0.000028</td>\n",
       "      <td>0.000015</td>\n",
       "      <td>134.216410</td>\n",
       "      <td>265.724180</td>\n",
       "      <td>1.017758</td>\n",
       "    </tr>\n",
       "    <tr>\n",
       "      <th>sigma_y</th>\n",
       "      <td>0.002023</td>\n",
       "      <td>0.000125</td>\n",
       "      <td>0.001815</td>\n",
       "      <td>0.002268</td>\n",
       "      <td>0.000013</td>\n",
       "      <td>0.000007</td>\n",
       "      <td>91.152699</td>\n",
       "      <td>234.227296</td>\n",
       "      <td>1.052611</td>\n",
       "    </tr>\n",
       "    <tr>\n",
       "      <th>sigma_theta</th>\n",
       "      <td>0.667828</td>\n",
       "      <td>0.019107</td>\n",
       "      <td>0.634465</td>\n",
       "      <td>0.704317</td>\n",
       "      <td>0.001567</td>\n",
       "      <td>0.000661</td>\n",
       "      <td>151.604035</td>\n",
       "      <td>379.656315</td>\n",
       "      <td>1.018107</td>\n",
       "    </tr>\n",
       "    <tr>\n",
       "      <th>sigma_fin_base</th>\n",
       "      <td>2.466729</td>\n",
       "      <td>0.012959</td>\n",
       "      <td>2.439698</td>\n",
       "      <td>2.489269</td>\n",
       "      <td>0.000208</td>\n",
       "      <td>0.000323</td>\n",
       "      <td>3842.791384</td>\n",
       "      <td>1640.204484</td>\n",
       "      <td>1.000760</td>\n",
       "    </tr>\n",
       "  </tbody>\n",
       "</table>\n",
       "</div>"
      ],
      "text/plain": [
       "                    mean        sd    hdi_3%   hdi_97%  mcse_mean   mcse_sd  \\\n",
       "gamma0          0.003245  0.000097  0.003068  0.003436   0.000004  0.000002   \n",
       "gamma1          0.012127  0.000325  0.011552  0.012734   0.000028  0.000015   \n",
       "sigma_y         0.002023  0.000125  0.001815  0.002268   0.000013  0.000007   \n",
       "sigma_theta     0.667828  0.019107  0.634465  0.704317   0.001567  0.000661   \n",
       "sigma_fin_base  2.466729  0.012959  2.439698  2.489269   0.000208  0.000323   \n",
       "\n",
       "                   ess_bulk     ess_tail     r_hat  \n",
       "gamma0           508.483021  1001.950467  1.003141  \n",
       "gamma1           134.216410   265.724180  1.017758  \n",
       "sigma_y           91.152699   234.227296  1.052611  \n",
       "sigma_theta      151.604035   379.656315  1.018107  \n",
       "sigma_fin_base  3842.791384  1640.204484  1.000760  "
      ]
     },
     "execution_count": 28,
     "metadata": {},
     "output_type": "execute_result"
    }
   ],
   "source": [
    "iid_summary"
   ]
  },
  {
   "cell_type": "code",
   "execution_count": 12,
   "id": "85ac7afd",
   "metadata": {},
   "outputs": [],
   "source": [
    "daily_iid  = pd.read_csv(\"../data/daily_latent_sentiment_iid.csv\", index_col=0)\n",
    "daily_ar1  = pd.read_csv(\"../data/daily_latent_sentiment_ar1.csv\", index_col=0)\n",
    "daily_FinBERT  = pd.read_csv(\"../data/daily_headlines_embedded_FinBERT.csv\", index_col=0)"
   ]
  },
  {
   "cell_type": "markdown",
   "id": "ccb9430c",
   "metadata": {},
   "source": [
    "### Data preparation"
   ]
  },
  {
   "cell_type": "code",
   "execution_count": 38,
   "id": "85feb812",
   "metadata": {},
   "outputs": [
    {
     "name": "stdout",
     "output_type": "stream",
     "text": [
      "=== Group: high ===\n",
      "==============================================================================\n",
      "                 coef    std err          z      P>|z|      [0.025      0.975]\n",
      "------------------------------------------------------------------------------\n",
      "const          0.0004      0.000      2.177      0.029    3.55e-05       0.001\n",
      "hat_theta      0.0004      0.000      1.179      0.238      -0.000       0.001\n",
      "==============================================================================\n",
      "\n",
      "\n",
      "=== Group: low ===\n",
      "==============================================================================\n",
      "                 coef    std err          z      P>|z|      [0.025      0.975]\n",
      "------------------------------------------------------------------------------\n",
      "const      -2.663e-05      0.000     -0.061      0.952      -0.001       0.001\n",
      "hat_theta     -0.0002      0.001     -0.369      0.712      -0.001       0.001\n",
      "==============================================================================\n",
      "\n",
      "\n",
      "=== Group: medium ===\n",
      "==============================================================================\n",
      "                 coef    std err          z      P>|z|      [0.025      0.975]\n",
      "------------------------------------------------------------------------------\n",
      "const      -6.616e-06      0.000     -0.033      0.973      -0.000       0.000\n",
      "hat_theta     -0.0002      0.000     -0.683      0.495      -0.001       0.000\n",
      "==============================================================================\n",
      "\n",
      "\n"
     ]
    }
   ],
   "source": [
    "def ols_hac(y, X, lags=5):\n",
    "    Xc = sm.add_constant(X)\n",
    "    return sm.OLS(y, Xc, missing='drop').fit(cov_type='HAC', cov_kwds={'maxlags': lags})\n",
    "\n",
    "results_by_C = {}\n",
    "\n",
    "for grp, dailyg in daily_FinBERT.groupby(\"C_group\"):\n",
    "    X = sm.add_constant(dailyg['hat_theta'])\n",
    "    y = dailyg['Return_simple']\n",
    "    model = sm.OLS(y, X).fit(cov_type='HAC', cov_kwds={'maxlags': 5})\n",
    "    results_by_C[grp] = model\n",
    "\n",
    "for grp, model in results_by_C.items():\n",
    "    print(f\"=== Group: {grp} ===\")\n",
    "    print(model.summary().tables[1])\n",
    "    print(\"\\n\")"
   ]
  },
  {
   "cell_type": "markdown",
   "id": "9940c43f",
   "metadata": {
    "vscode": {
     "languageId": "bat"
    }
   },
   "source": [
    "### Visualization"
   ]
  },
  {
   "cell_type": "markdown",
   "id": "fde4cb54",
   "metadata": {},
   "source": [
    "Table"
   ]
  },
  {
   "cell_type": "code",
   "execution_count": 31,
   "id": "75aed121",
   "metadata": {},
   "outputs": [
    {
     "name": "stdout",
     "output_type": "stream",
     "text": [
      "        Estimator  Estimate  Std. Error           95% Interval\n",
      "0  One-Step (IID)  0.012127    0.000325     [0.01155, 0.01273]\n",
      "1  One-Step (AR1) -0.000767    0.001098  [-0.002834, 0.001226]\n"
     ]
    }
   ],
   "source": [
    "def pick(df, name):\n",
    "    return pd.Series({\n",
    "        \"Estimator\": name,\n",
    "        \"gamma1_mean\": df.loc[\"gamma1\",\"mean\"],\n",
    "        \"gamma1_sd\":   df.loc[\"gamma1\",\"sd\"],\n",
    "        \"gamma1_l\":    df.loc[\"gamma1\"].get(\"hdi_3%\", df.loc[\"gamma1\"].get(\"hdi_2.5%\", np.nan)),\n",
    "        \"gamma1_u\":    df.loc[\"gamma1\"].get(\"hdi_97%\", df.loc[\"gamma1\"].get(\"hdi_97.5%\", np.nan)),\n",
    "    })\n",
    "\n",
    "rows = [\n",
    "    pick(iid_summary, \"One-Step (IID)\"),\n",
    "    pick(ar1_summary, \"One-Step (AR1)\"),\n",
    "]\n",
    "\n",
    "# OPTIONAL: wenn du Two-Step-Summaries hast (gleiche Struktur, Index=param names)\n",
    "# twostep_summary = pd.read_csv(\"../data/twostep_summary.csv\", index_col=0)\n",
    "# rows.append(pick(twostep_summary, \"Two-Step (OLS)\"))\n",
    "\n",
    "tbl = pd.DataFrame(rows)\n",
    "tbl[\"gamma1_CI\"] = tbl.apply(lambda r: f\"[{r.gamma1_l:.4g}, {r.gamma1_u:.4g}]\", axis=1)\n",
    "tbl_round = tbl[[\"Estimator\",\"gamma1_mean\",\"gamma1_sd\",\"gamma1_CI\"]].copy()\n",
    "tbl_round.rename(columns={\n",
    "    \"gamma1_mean\":\"Estimate\",\n",
    "    \"gamma1_sd\":\"Std. Error\",\n",
    "    \"gamma1_CI\":\"95% Interval\"\n",
    "}, inplace=True)\n",
    "\n",
    "# CSV + LaTeX für Paper\n",
    "'''tbl_round.to_csv(\"../fig/estimator_comparison.csv\", index=False)\n",
    "with open(\"../fig/estimator_comparison.tex\",\"w\", encoding=\"utf-8\") as f:\n",
    "    f.write(tbl_round.to_latex(index=False, escape=False, float_format=\"%.4g\"))'''\n",
    "print(tbl_round)\n"
   ]
  },
  {
   "cell_type": "markdown",
   "id": "643a6a67",
   "metadata": {},
   "source": [
    "Image"
   ]
  },
  {
   "cell_type": "code",
   "execution_count": 30,
   "id": "1e1bae77",
   "metadata": {},
   "outputs": [
    {
     "ename": "KeyboardInterrupt",
     "evalue": "",
     "output_type": "error",
     "traceback": [
      "\u001b[1;31m---------------------------------------------------------------------------\u001b[0m",
      "\u001b[1;31mKeyboardInterrupt\u001b[0m                         Traceback (most recent call last)",
      "Cell \u001b[1;32mIn[30], line 60\u001b[0m\n\u001b[0;32m     57\u001b[0m     \u001b[38;5;28;01mreturn\u001b[39;00m pd\u001b[38;5;241m.\u001b[39mDataFrame(rows)\n\u001b[0;32m     59\u001b[0m \u001b[38;5;66;03m# Lauf\u001b[39;00m\n\u001b[1;32m---> 60\u001b[0m covdf \u001b[38;5;241m=\u001b[39m \u001b[43mrun_coverage\u001b[49m\u001b[43m(\u001b[49m\u001b[43mR\u001b[49m\u001b[38;5;241;43m=\u001b[39;49m\u001b[38;5;241;43m400\u001b[39;49m\u001b[43m)\u001b[49m  \u001b[38;5;66;03m# ggf. höher stellen (z.B. 1000) wenn Zeit vorhanden\u001b[39;00m\n\u001b[0;32m     61\u001b[0m \u001b[38;5;124;03m'''covdf.to_csv(\"../fig/coverage_table.csv\", index=False)'''\u001b[39;00m\n\u001b[0;32m     62\u001b[0m \u001b[38;5;28mprint\u001b[39m(covdf)\n",
      "Cell \u001b[1;32mIn[30], line 45\u001b[0m, in \u001b[0;36mrun_coverage\u001b[1;34m(R, T, gamma1, sigma_fin_grid, C_grids)\u001b[0m\n\u001b[0;32m     43\u001b[0m cover_o \u001b[38;5;241m=\u001b[39m cover_f \u001b[38;5;241m=\u001b[39m \u001b[38;5;241m0\u001b[39m\n\u001b[0;32m     44\u001b[0m \u001b[38;5;28;01mfor\u001b[39;00m _ \u001b[38;5;129;01min\u001b[39;00m \u001b[38;5;28mrange\u001b[39m(R):\n\u001b[1;32m---> 45\u001b[0m     out \u001b[38;5;241m=\u001b[39m \u001b[43msimulate_once\u001b[49m\u001b[43m(\u001b[49m\u001b[43mT\u001b[49m\u001b[38;5;241;43m=\u001b[39;49m\u001b[43mT\u001b[49m\u001b[43m,\u001b[49m\u001b[43m \u001b[49m\u001b[43mgamma1\u001b[49m\u001b[38;5;241;43m=\u001b[39;49m\u001b[43mgamma1\u001b[49m\u001b[43m,\u001b[49m\u001b[43m \u001b[49m\u001b[43msigma_fin\u001b[49m\u001b[38;5;241;43m=\u001b[39;49m\u001b[43msigma_fin\u001b[49m\u001b[43m,\u001b[49m\n\u001b[0;32m     46\u001b[0m \u001b[43m                        \u001b[49m\u001b[43mC_low\u001b[49m\u001b[38;5;241;43m=\u001b[39;49m\u001b[43mC_low\u001b[49m\u001b[43m,\u001b[49m\u001b[43m \u001b[49m\u001b[43mC_high\u001b[49m\u001b[38;5;241;43m=\u001b[39;49m\u001b[43mC_high\u001b[49m\u001b[43m)\u001b[49m\n\u001b[0;32m     47\u001b[0m     \u001b[38;5;28;01mif\u001b[39;00m out[\u001b[38;5;124m\"\u001b[39m\u001b[38;5;124ml_oracle\u001b[39m\u001b[38;5;124m\"\u001b[39m] \u001b[38;5;241m<\u001b[39m\u001b[38;5;241m=\u001b[39m gamma1 \u001b[38;5;241m<\u001b[39m\u001b[38;5;241m=\u001b[39m out[\u001b[38;5;124m\"\u001b[39m\u001b[38;5;124mu_oracle\u001b[39m\u001b[38;5;124m\"\u001b[39m]:\n\u001b[0;32m     48\u001b[0m         cover_o \u001b[38;5;241m+\u001b[39m\u001b[38;5;241m=\u001b[39m \u001b[38;5;241m1\u001b[39m\n",
      "Cell \u001b[1;32mIn[30], line 21\u001b[0m, in \u001b[0;36msimulate_once\u001b[1;34m(T, gamma0, gamma1, rho, tau, sigma_y, sigma_fin, C_low, C_high)\u001b[0m\n\u001b[0;32m     19\u001b[0m     sbar[t] \u001b[38;5;241m=\u001b[39m s_tj\u001b[38;5;241m.\u001b[39mmean()\n\u001b[0;32m     20\u001b[0m \u001b[38;5;66;03m# Returns\u001b[39;00m\n\u001b[1;32m---> 21\u001b[0m R \u001b[38;5;241m=\u001b[39m gamma0 \u001b[38;5;241m+\u001b[39m gamma1\u001b[38;5;241m*\u001b[39mtheta \u001b[38;5;241m+\u001b[39m \u001b[43mrng\u001b[49m\u001b[38;5;241;43m.\u001b[39;49m\u001b[43mnormal\u001b[49m\u001b[43m(\u001b[49m\u001b[38;5;241;43m0\u001b[39;49m\u001b[43m,\u001b[49m\u001b[43m \u001b[49m\u001b[43msigma_y\u001b[49m\u001b[43m,\u001b[49m\u001b[43m \u001b[49m\u001b[43msize\u001b[49m\u001b[38;5;241;43m=\u001b[39;49m\u001b[43mT\u001b[49m\u001b[43m)\u001b[49m\n\u001b[0;32m     22\u001b[0m \u001b[38;5;66;03m# Oracle OLS\u001b[39;00m\n\u001b[0;32m     23\u001b[0m Xo \u001b[38;5;241m=\u001b[39m sm\u001b[38;5;241m.\u001b[39madd_constant(theta)\n",
      "\u001b[1;31mKeyboardInterrupt\u001b[0m: "
     ]
    }
   ],
   "source": [
    "import numpy as np\n",
    "import pandas as pd\n",
    "import statsmodels.api as sm\n",
    "import matplotlib.pyplot as plt\n",
    "rng = np.random.default_rng(123)\n",
    "\n",
    "def simulate_once(T=800, gamma0=0.0, gamma1=0.02, rho=0.95, tau=0.05,\n",
    "                  sigma_y=0.01, sigma_fin=0.6, C_low=2, C_high=30):\n",
    "    # Latent AR(1)\n",
    "    theta = np.zeros(T)\n",
    "    theta[0] = rng.normal(0, tau/np.sqrt(1-rho**2))\n",
    "    for t in range(1,T):\n",
    "        theta[t] = rho*theta[t-1] + rng.normal(0, tau)\n",
    "    # Headlines\n",
    "    C_t = rng.integers(C_low, C_high+1, size=T)\n",
    "    sbar = np.empty(T)\n",
    "    for t in range(T):\n",
    "        s_tj = theta[t] + rng.normal(0, sigma_fin, size=C_t[t])\n",
    "        sbar[t] = s_tj.mean()\n",
    "    # Returns\n",
    "    R = gamma0 + gamma1*theta + rng.normal(0, sigma_y, size=T)\n",
    "    # Oracle OLS\n",
    "    Xo = sm.add_constant(theta)\n",
    "    res_o = sm.OLS(R, Xo).fit()\n",
    "    b_o, se_o = res_o.params[1], res_o.bse[1]\n",
    "    ci_o = (b_o - 1.96*se_o, b_o + 1.96*se_o)\n",
    "    # Feasible two-step OLS\n",
    "    Xf = sm.add_constant(sbar)\n",
    "    res_f = sm.OLS(R, Xf).fit()\n",
    "    b_f, se_f = res_f.params[1], res_f.bse[1]\n",
    "    ci_f = (b_f - 1.96*se_f, b_f + 1.96*se_f)\n",
    "    return {\n",
    "        \"b_oracle\": b_o, \"l_oracle\": ci_o[0], \"u_oracle\": ci_o[1],\n",
    "        \"b_feasible\": b_f, \"l_feasible\": ci_f[0], \"u_feasible\": ci_f[1],\n",
    "    }\n",
    "\n",
    "def run_coverage(R=500, T=800, gamma1=0.02,\n",
    "                 sigma_fin_grid=(0.3, 0.6, 0.9),\n",
    "                 C_grids=((2,30),(5,50),(10,80))):\n",
    "    rows=[]\n",
    "    for sigma_fin in sigma_fin_grid:\n",
    "        for C_low, C_high in C_grids:\n",
    "            cover_o = cover_f = 0\n",
    "            for _ in range(R):\n",
    "                out = simulate_once(T=T, gamma1=gamma1, sigma_fin=sigma_fin,\n",
    "                                    C_low=C_low, C_high=C_high)\n",
    "                if out[\"l_oracle\"] <= gamma1 <= out[\"u_oracle\"]:\n",
    "                    cover_o += 1\n",
    "                if out[\"l_feasible\"] <= gamma1 <= out[\"u_feasible\"]:\n",
    "                    cover_f += 1\n",
    "            rows.append({\n",
    "                \"sigma_fin\": sigma_fin,\n",
    "                \"C_low\": C_low, \"C_high\": C_high, \"C_mean\": (C_low+C_high)/2,\n",
    "                \"coverage_oracle\": cover_o/R,\n",
    "                \"coverage_feasible\": cover_f/R\n",
    "            })\n",
    "    return pd.DataFrame(rows)\n",
    "\n",
    "# Lauf\n",
    "covdf = run_coverage(R=400)  # ggf. höher stellen (z.B. 1000) wenn Zeit vorhanden\n",
    "'''covdf.to_csv(\"../fig/coverage_table.csv\", index=False)'''\n",
    "print(covdf)\n"
   ]
  }
 ],
 "metadata": {
  "kernelspec": {
   "display_name": "Python 3",
   "language": "python",
   "name": "python3"
  },
  "language_info": {
   "codemirror_mode": {
    "name": "ipython",
    "version": 3
   },
   "file_extension": ".py",
   "mimetype": "text/x-python",
   "name": "python",
   "nbconvert_exporter": "python",
   "pygments_lexer": "ipython3",
   "version": "3.10.7"
  }
 },
 "nbformat": 4,
 "nbformat_minor": 5
}
