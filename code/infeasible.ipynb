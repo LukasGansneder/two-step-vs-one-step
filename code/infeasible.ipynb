{
 "cells": [
  {
   "cell_type": "code",
   "execution_count": 3,
   "id": "8f6d675f",
   "metadata": {},
   "outputs": [
    {
     "name": "stdout",
     "output_type": "stream",
     "text": [
      "--- Oracle (infeasible) ---\n",
      "[0.00013824 0.01642343] \n",
      "\n",
      "--- Feasible two-step ---\n",
      "[-0.00019924  0.00457487] \n",
      "\n",
      "True gamma1: 0.0200\n",
      "Oracle slope (≈ unbiased): 0.0164\n",
      "Feasible slope (attenuated): 0.0046\n",
      "Corr(theta, sbar): 0.578,  Var(theta)=0.019, Var(sbar)=0.053\n"
     ]
    }
   ],
   "source": [
    "import numpy as np\n",
    "import pandas as pd\n",
    "import statsmodels.api as sm\n",
    "\n",
    "rng = np.random.default_rng(42)\n",
    "\n",
    "# --- Design ---\n",
    "T = 800                      # days\n",
    "gamma0, gamma1 = 0.0, 0.02   # true effect of theta on returns\n",
    "rho = 0.95                   # AR(1) persistence of theta\n",
    "tau = 0.05                   # innovation sd of theta\n",
    "sigma_y = 0.01               # return noise sd\n",
    "sigma_fin = 0.6              # headline measurement sd (per headline)\n",
    "C_low, C_high = 2, 30        # min/max daily headline counts\n",
    "\n",
    "# --- Simulate latent theta_t (AR(1)) ---\n",
    "theta = np.zeros(T)\n",
    "theta[0] = rng.normal(0, tau/np.sqrt(1-rho**2))\n",
    "for t in range(1, T):\n",
    "    theta[t] = rho*theta[t-1] + rng.normal(0, tau)\n",
    "\n",
    "# --- Simulate headlines and daily mean signal ---\n",
    "C_t = rng.integers(C_low, C_high+1, size=T)\n",
    "sbar = np.empty(T)\n",
    "for t in range(T):\n",
    "    s_tj = theta[t] + rng.normal(0, sigma_fin, size=C_t[t])    # signals per headline\n",
    "    sbar[t] = s_tj.mean()                                      # daily average (two-step proxy)\n",
    "\n",
    "# --- Simulate returns ---\n",
    "R = gamma0 + gamma1*theta + rng.normal(0, sigma_y, size=T)\n",
    "\n",
    "def ols(y, x, addc=True):\n",
    "    X = sm.add_constant(x) if addc else x\n",
    "    return sm.OLS(y, X).fit()\n",
    "\n",
    "# 1) Oracle infeasible two-step: R ~ theta (true)\n",
    "res_oracle = ols(R, theta)\n",
    "\n",
    "# 2) Feasible two-step: R ~ sbar (proxy with measurement error)\n",
    "res_feasible = ols(R, sbar)\n",
    "\n",
    "# 3) Optional: classical ME correction if Var(sbar | theta) known ≈ sigma_fin^2 / C_t\n",
    "#    Here we use the sample average Var(sbar|theta) as plug-in to de-attenuate slope.\n",
    "lambda_att = np.var(theta) / np.var(sbar) * np.corrcoef(theta, sbar)[0,1]  # helps interpret\n",
    "# (for reporting only)\n",
    "\n",
    "print(\"--- Oracle (infeasible) ---\")\n",
    "print(res_oracle.params, \"\\n\")\n",
    "print(\"--- Feasible two-step ---\")\n",
    "print(res_feasible.params, \"\\n\")\n",
    "\n",
    "print(f\"True gamma1: {gamma1:.4f}\")\n",
    "print(f\"Oracle slope (≈ unbiased): {res_oracle.params[1]:.4f}\")\n",
    "print(f\"Feasible slope (attenuated): {res_feasible.params[1]:.4f}\")\n",
    "print(f\"Corr(theta, sbar): {np.corrcoef(theta, sbar)[0,1]:.3f},  Var(theta)={np.var(theta):.3f}, Var(sbar)={np.var(sbar):.3f}\")\n"
   ]
  }
 ],
 "metadata": {
  "kernelspec": {
   "display_name": "Python 3",
   "language": "python",
   "name": "python3"
  },
  "language_info": {
   "codemirror_mode": {
    "name": "ipython",
    "version": 3
   },
   "file_extension": ".py",
   "mimetype": "text/x-python",
   "name": "python",
   "nbconvert_exporter": "python",
   "pygments_lexer": "ipython3",
   "version": "3.10.7"
  }
 },
 "nbformat": 4,
 "nbformat_minor": 5
}
